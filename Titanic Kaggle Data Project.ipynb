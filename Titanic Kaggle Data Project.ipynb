{
 "cells": [
  {
   "cell_type": "code",
   "execution_count": 1,
   "metadata": {},
   "outputs": [],
   "source": [
    "import pandas as pd\n",
    "import numpy as np\n",
    "import seaborn as sns\n",
    "import matplotlib.pyplot as plt\n",
    "%matplotlib inline"
   ]
  },
  {
   "cell_type": "code",
   "execution_count": 78,
   "metadata": {},
   "outputs": [],
   "source": [
    "# import the data set into a data frame\n",
    "train = pd.read_csv('Data//train.csv')"
   ]
  },
  {
   "cell_type": "code",
   "execution_count": 79,
   "metadata": {},
   "outputs": [
    {
     "data": {
      "text/html": [
       "<div>\n",
       "<style scoped>\n",
       "    .dataframe tbody tr th:only-of-type {\n",
       "        vertical-align: middle;\n",
       "    }\n",
       "\n",
       "    .dataframe tbody tr th {\n",
       "        vertical-align: top;\n",
       "    }\n",
       "\n",
       "    .dataframe thead th {\n",
       "        text-align: right;\n",
       "    }\n",
       "</style>\n",
       "<table border=\"1\" class=\"dataframe\">\n",
       "  <thead>\n",
       "    <tr style=\"text-align: right;\">\n",
       "      <th></th>\n",
       "      <th>PassengerId</th>\n",
       "      <th>Survived</th>\n",
       "      <th>Pclass</th>\n",
       "      <th>Name</th>\n",
       "      <th>Sex</th>\n",
       "      <th>Age</th>\n",
       "      <th>SibSp</th>\n",
       "      <th>Parch</th>\n",
       "      <th>Ticket</th>\n",
       "      <th>Fare</th>\n",
       "      <th>Cabin</th>\n",
       "      <th>Embarked</th>\n",
       "    </tr>\n",
       "  </thead>\n",
       "  <tbody>\n",
       "    <tr>\n",
       "      <td>0</td>\n",
       "      <td>1</td>\n",
       "      <td>0</td>\n",
       "      <td>3</td>\n",
       "      <td>Braund, Mr. Owen Harris</td>\n",
       "      <td>male</td>\n",
       "      <td>22.0</td>\n",
       "      <td>1</td>\n",
       "      <td>0</td>\n",
       "      <td>A/5 21171</td>\n",
       "      <td>7.2500</td>\n",
       "      <td>NaN</td>\n",
       "      <td>S</td>\n",
       "    </tr>\n",
       "    <tr>\n",
       "      <td>1</td>\n",
       "      <td>2</td>\n",
       "      <td>1</td>\n",
       "      <td>1</td>\n",
       "      <td>Cumings, Mrs. John Bradley (Florence Briggs Th...</td>\n",
       "      <td>female</td>\n",
       "      <td>38.0</td>\n",
       "      <td>1</td>\n",
       "      <td>0</td>\n",
       "      <td>PC 17599</td>\n",
       "      <td>71.2833</td>\n",
       "      <td>C85</td>\n",
       "      <td>C</td>\n",
       "    </tr>\n",
       "    <tr>\n",
       "      <td>2</td>\n",
       "      <td>3</td>\n",
       "      <td>1</td>\n",
       "      <td>3</td>\n",
       "      <td>Heikkinen, Miss. Laina</td>\n",
       "      <td>female</td>\n",
       "      <td>26.0</td>\n",
       "      <td>0</td>\n",
       "      <td>0</td>\n",
       "      <td>STON/O2. 3101282</td>\n",
       "      <td>7.9250</td>\n",
       "      <td>NaN</td>\n",
       "      <td>S</td>\n",
       "    </tr>\n",
       "    <tr>\n",
       "      <td>3</td>\n",
       "      <td>4</td>\n",
       "      <td>1</td>\n",
       "      <td>1</td>\n",
       "      <td>Futrelle, Mrs. Jacques Heath (Lily May Peel)</td>\n",
       "      <td>female</td>\n",
       "      <td>35.0</td>\n",
       "      <td>1</td>\n",
       "      <td>0</td>\n",
       "      <td>113803</td>\n",
       "      <td>53.1000</td>\n",
       "      <td>C123</td>\n",
       "      <td>S</td>\n",
       "    </tr>\n",
       "    <tr>\n",
       "      <td>4</td>\n",
       "      <td>5</td>\n",
       "      <td>0</td>\n",
       "      <td>3</td>\n",
       "      <td>Allen, Mr. William Henry</td>\n",
       "      <td>male</td>\n",
       "      <td>35.0</td>\n",
       "      <td>0</td>\n",
       "      <td>0</td>\n",
       "      <td>373450</td>\n",
       "      <td>8.0500</td>\n",
       "      <td>NaN</td>\n",
       "      <td>S</td>\n",
       "    </tr>\n",
       "  </tbody>\n",
       "</table>\n",
       "</div>"
      ],
      "text/plain": [
       "   PassengerId  Survived  Pclass  \\\n",
       "0            1         0       3   \n",
       "1            2         1       1   \n",
       "2            3         1       3   \n",
       "3            4         1       1   \n",
       "4            5         0       3   \n",
       "\n",
       "                                                Name     Sex   Age  SibSp  \\\n",
       "0                            Braund, Mr. Owen Harris    male  22.0      1   \n",
       "1  Cumings, Mrs. John Bradley (Florence Briggs Th...  female  38.0      1   \n",
       "2                             Heikkinen, Miss. Laina  female  26.0      0   \n",
       "3       Futrelle, Mrs. Jacques Heath (Lily May Peel)  female  35.0      1   \n",
       "4                           Allen, Mr. William Henry    male  35.0      0   \n",
       "\n",
       "   Parch            Ticket     Fare Cabin Embarked  \n",
       "0      0         A/5 21171   7.2500   NaN        S  \n",
       "1      0          PC 17599  71.2833   C85        C  \n",
       "2      0  STON/O2. 3101282   7.9250   NaN        S  \n",
       "3      0            113803  53.1000  C123        S  \n",
       "4      0            373450   8.0500   NaN        S  "
      ]
     },
     "execution_count": 79,
     "metadata": {},
     "output_type": "execute_result"
    }
   ],
   "source": [
    "train.head()"
   ]
  },
  {
   "cell_type": "code",
   "execution_count": 80,
   "metadata": {},
   "outputs": [
    {
     "name": "stdout",
     "output_type": "stream",
     "text": [
      "<class 'pandas.core.frame.DataFrame'>\n",
      "RangeIndex: 891 entries, 0 to 890\n",
      "Data columns (total 12 columns):\n",
      "PassengerId    891 non-null int64\n",
      "Survived       891 non-null int64\n",
      "Pclass         891 non-null int64\n",
      "Name           891 non-null object\n",
      "Sex            891 non-null object\n",
      "Age            714 non-null float64\n",
      "SibSp          891 non-null int64\n",
      "Parch          891 non-null int64\n",
      "Ticket         891 non-null object\n",
      "Fare           891 non-null float64\n",
      "Cabin          204 non-null object\n",
      "Embarked       889 non-null object\n",
      "dtypes: float64(2), int64(5), object(5)\n",
      "memory usage: 83.7+ KB\n"
     ]
    }
   ],
   "source": [
    "train.info()"
   ]
  },
  {
   "cell_type": "code",
   "execution_count": 81,
   "metadata": {},
   "outputs": [
    {
     "data": {
      "text/plain": [
       "<matplotlib.axes._subplots.AxesSubplot at 0x166df33a9c8>"
      ]
     },
     "execution_count": 81,
     "metadata": {},
     "output_type": "execute_result"
    },
    {
     "data": {
      "image/png": "[encoded data removed]",
      "text/plain": [
       "<Figure size 432x288 with 1 Axes>"
      ]
     },
     "metadata": {},
     "output_type": "display_data"
    }
   ],
   "source": [
    "sns.set_style('whitegrid')\n",
    "sns.countplot(x='Survived', data=train, hue='Pclass', palette='plasma')"
   ]
  },
  {
   "cell_type": "code",
   "execution_count": 6,
   "metadata": {},
   "outputs": [
    {
     "data": {
      "text/plain": [
       "<matplotlib.axes._subplots.AxesSubplot at 0x166dcdb8648>"
      ]
     },
     "execution_count": 6,
     "metadata": {},
     "output_type": "execute_result"
    },
    {
     "data": {
      "image/png": "[encoded data removed]",
      "text/plain": [
       "<Figure size 432x288 with 1 Axes>"
      ]
     },
     "metadata": {},
     "output_type": "display_data"
    }
   ],
   "source": [
    "sns.countplot(x='Survived', data=train, hue='Sex', palette='plasma')"
   ]
  },
  {
   "cell_type": "code",
   "execution_count": 7,
   "metadata": {},
   "outputs": [],
   "source": [
    "#sns.pairplot(data=df[['Survived','Pclass','Sex','Age','SibSp','Parch','Fare','Embarked']])"
   ]
  },
  {
   "cell_type": "code",
   "execution_count": 8,
   "metadata": {},
   "outputs": [
    {
     "data": {
      "text/plain": [
       "<matplotlib.axes._subplots.AxesSubplot at 0x166dce42f08>"
      ]
     },
     "execution_count": 8,
     "metadata": {},
     "output_type": "execute_result"
    },
    {
     "data": {
      "image/png": "[encoded data removed]",
      "text/plain": [
       "<Figure size 432x288 with 1 Axes>"
      ]
     },
     "metadata": {},
     "output_type": "display_data"
    }
   ],
   "source": [
    "sns.boxplot(x='Pclass', y='Fare', data=train)"
   ]
  },
  {
   "cell_type": "code",
   "execution_count": 9,
   "metadata": {},
   "outputs": [
    {
     "data": {
      "text/plain": [
       "<matplotlib.axes._subplots.AxesSubplot at 0x166dcdbe4c8>"
      ]
     },
     "execution_count": 9,
     "metadata": {},
     "output_type": "execute_result"
    },
    {
     "data": {
      "image/png": "[encoded data removed]",
      "text/plain": [
       "<Figure size 432x288 with 1 Axes>"
      ]
     },
     "metadata": {},
     "output_type": "display_data"
    }
   ],
   "source": [
    "sns.boxplot(x='Pclass', y='Age', data=train)"
   ]
  },
  {
   "cell_type": "code",
   "execution_count": 10,
   "metadata": {},
   "outputs": [
    {
     "data": {
      "text/html": [
       "<div>\n",
       "<style scoped>\n",
       "    .dataframe tbody tr th:only-of-type {\n",
       "        vertical-align: middle;\n",
       "    }\n",
       "\n",
       "    .dataframe tbody tr th {\n",
       "        vertical-align: top;\n",
       "    }\n",
       "\n",
       "    .dataframe thead th {\n",
       "        text-align: right;\n",
       "    }\n",
       "</style>\n",
       "<table border=\"1\" class=\"dataframe\">\n",
       "  <thead>\n",
       "    <tr style=\"text-align: right;\">\n",
       "      <th></th>\n",
       "      <th>PassengerId</th>\n",
       "      <th>Survived</th>\n",
       "      <th>Pclass</th>\n",
       "      <th>Name</th>\n",
       "      <th>Sex</th>\n",
       "      <th>Age</th>\n",
       "      <th>SibSp</th>\n",
       "      <th>Parch</th>\n",
       "      <th>Ticket</th>\n",
       "      <th>Fare</th>\n",
       "      <th>Cabin</th>\n",
       "      <th>Embarked</th>\n",
       "    </tr>\n",
       "  </thead>\n",
       "  <tbody>\n",
       "    <tr>\n",
       "      <td>0</td>\n",
       "      <td>1</td>\n",
       "      <td>0</td>\n",
       "      <td>3</td>\n",
       "      <td>Braund, Mr. Owen Harris</td>\n",
       "      <td>male</td>\n",
       "      <td>22.0</td>\n",
       "      <td>1</td>\n",
       "      <td>0</td>\n",
       "      <td>A/5 21171</td>\n",
       "      <td>7.25</td>\n",
       "      <td>NaN</td>\n",
       "      <td>S</td>\n",
       "    </tr>\n",
       "  </tbody>\n",
       "</table>\n",
       "</div>"
      ],
      "text/plain": [
       "   PassengerId  Survived  Pclass                     Name   Sex   Age  SibSp  \\\n",
       "0            1         0       3  Braund, Mr. Owen Harris  male  22.0      1   \n",
       "\n",
       "   Parch     Ticket  Fare Cabin Embarked  \n",
       "0      0  A/5 21171  7.25   NaN        S  "
      ]
     },
     "execution_count": 10,
     "metadata": {},
     "output_type": "execute_result"
    }
   ],
   "source": [
    "train.head(1)"
   ]
  },
  {
   "cell_type": "code",
   "execution_count": 11,
   "metadata": {},
   "outputs": [
    {
     "data": {
      "text/plain": [
       "Text(0.5, 1.0, 'People survived, by sex')"
      ]
     },
     "execution_count": 11,
     "metadata": {},
     "output_type": "execute_result"
    },
    {
     "data": {
      "image/png": "[encoded data removed]",
      "text/plain": [
       "<Figure size 864x288 with 2 Axes>"
      ]
     },
     "metadata": {},
     "output_type": "display_data"
    }
   ],
   "source": [
    "fig, axes = plt.subplots(nrows=1, ncols=2, figsize=(12,4))\n",
    "\n",
    "sns.countplot(x='Sex', data=train, ax=axes[0])\n",
    "axes[0].set_title('Count of people by Sex')\n",
    "\n",
    "sns.countplot(x='Sex', data=train, ax=axes[1], hue='Survived', palette='Set2')\n",
    "axes[1].set_title('People survived, by sex')"
   ]
  },
  {
   "cell_type": "code",
   "execution_count": 12,
   "metadata": {
    "scrolled": true
   },
   "outputs": [
    {
     "data": {
      "text/plain": [
       "Text(0.5, 1.0, 'Number of people survived by Pclass')"
      ]
     },
     "execution_count": 12,
     "metadata": {},
     "output_type": "execute_result"
    },
    {
     "data": {
      "image/png": "[encoded data removed]",
      "text/plain": [
       "<Figure size 864x288 with 3 Axes>"
      ]
     },
     "metadata": {},
     "output_type": "display_data"
    }
   ],
   "source": [
    "fig, axes = plt.subplots(nrows=1, ncols=3, figsize=(12,4))\n",
    "\n",
    "sns.countplot(x='Pclass', data=train, ax=axes[0], palette='coolwarm')\n",
    "axes[0].set_title('Number of people in each Pclass')\n",
    "\n",
    "sns.countplot(x='Pclass', data=train, hue='Sex', ax=axes[1], palette='Set1')\n",
    "axes[1].set_title('Number of each sex in Pclass')\n",
    "\n",
    "sns.countplot(x='Pclass', data=train, hue='Survived', ax=axes[2], palette='Set3')\n",
    "axes[2].set_title('Number of people survived by Pclass')"
   ]
  },
  {
   "cell_type": "code",
   "execution_count": 13,
   "metadata": {},
   "outputs": [
    {
     "data": {
      "text/plain": [
       "Text(0.5, 1.0, 'Number of people survived by Embark location')"
      ]
     },
     "execution_count": 13,
     "metadata": {},
     "output_type": "execute_result"
    },
    {
     "data": {
      "image/png": "[encoded data removed]",
      "text/plain": [
       "<Figure size 864x288 with 3 Axes>"
      ]
     },
     "metadata": {},
     "output_type": "display_data"
    }
   ],
   "source": [
    "fig, axes = plt.subplots(nrows=1, ncols=3, figsize=(12,4))\n",
    "\n",
    "sns.countplot(x='Embarked', data=train, ax=axes[0], palette='coolwarm')\n",
    "axes[0].set_title('Number of people from each Embark location')\n",
    "\n",
    "sns.countplot(x='Embarked', data=train, hue='Sex', ax=axes[1], palette='Set1')\n",
    "axes[1].set_title('Number of each Sex by Embark location')\n",
    "\n",
    "sns.countplot(x='Embarked', data=train, hue='Survived', ax=axes[2], palette='Set3')\n",
    "axes[2].set_title('Number of people survived by Embark location')"
   ]
  },
  {
   "cell_type": "code",
   "execution_count": 14,
   "metadata": {
    "scrolled": false
   },
   "outputs": [
    {
     "name": "stdout",
     "output_type": "stream",
     "text": [
      "PassengerId      0\n",
      "Survived         0\n",
      "Pclass           0\n",
      "Name             0\n",
      "Sex              0\n",
      "Age            177\n",
      "SibSp            0\n",
      "Parch            0\n",
      "Ticket           0\n",
      "Fare             0\n",
      "Cabin          687\n",
      "Embarked         2\n",
      "dtype: int64\n"
     ]
    },
    {
     "data": {
      "text/plain": [
       "<matplotlib.axes._subplots.AxesSubplot at 0x166dd2aa808>"
      ]
     },
     "execution_count": 14,
     "metadata": {},
     "output_type": "execute_result"
    },
    {
     "data": {
      "image/png": "[encoded data removed]",
      "text/plain": [
       "<Figure size 576x432 with 2 Axes>"
      ]
     },
     "metadata": {},
     "output_type": "display_data"
    }
   ],
   "source": [
    "print(train.isnull().sum())\n",
    "\n",
    "plt.figure(figsize=(8,6))\n",
    "sns.heatmap(data=train.isnull(), cmap='plasma')"
   ]
  },
  {
   "cell_type": "code",
   "execution_count": 15,
   "metadata": {},
   "outputs": [],
   "source": [
    "# Check for missing data by value and percent of data\n",
    "def missing_vals(data, label):\n",
    "    print(f'{label} - Missing Values:')\n",
    "    print('------------------------------')\n",
    "    for col in data.columns:\n",
    "        vals = data[col].isnull().sum()\n",
    "        if vals > 0:           \n",
    "            pct = round(100 * vals / len(data), 2)\n",
    "            print(f'{col} = {vals} | {pct}%')"
   ]
  },
  {
   "cell_type": "code",
   "execution_count": 16,
   "metadata": {},
   "outputs": [
    {
     "name": "stdout",
     "output_type": "stream",
     "text": [
      "Train DF - Missing Values:\n",
      "------------------------------\n",
      "Age = 177 | 19.87%\n",
      "Cabin = 687 | 77.1%\n",
      "Embarked = 2 | 0.22%\n"
     ]
    }
   ],
   "source": [
    "missing_vals(train, 'Train DF')"
   ]
  },
  {
   "cell_type": "code",
   "execution_count": 17,
   "metadata": {},
   "outputs": [
    {
     "data": {
      "text/html": [
       "<div>\n",
       "<style scoped>\n",
       "    .dataframe tbody tr th:only-of-type {\n",
       "        vertical-align: middle;\n",
       "    }\n",
       "\n",
       "    .dataframe tbody tr th {\n",
       "        vertical-align: top;\n",
       "    }\n",
       "\n",
       "    .dataframe thead th {\n",
       "        text-align: right;\n",
       "    }\n",
       "</style>\n",
       "<table border=\"1\" class=\"dataframe\">\n",
       "  <thead>\n",
       "    <tr style=\"text-align: right;\">\n",
       "      <th></th>\n",
       "      <th>PassengerId</th>\n",
       "      <th>Survived</th>\n",
       "      <th>Pclass</th>\n",
       "      <th>Name</th>\n",
       "      <th>Sex</th>\n",
       "      <th>Age</th>\n",
       "      <th>SibSp</th>\n",
       "      <th>Parch</th>\n",
       "      <th>Ticket</th>\n",
       "      <th>Fare</th>\n",
       "      <th>Cabin</th>\n",
       "      <th>Embarked</th>\n",
       "    </tr>\n",
       "  </thead>\n",
       "  <tbody>\n",
       "    <tr>\n",
       "      <td>0</td>\n",
       "      <td>1</td>\n",
       "      <td>0</td>\n",
       "      <td>3</td>\n",
       "      <td>Braund, Mr. Owen Harris</td>\n",
       "      <td>male</td>\n",
       "      <td>22.0</td>\n",
       "      <td>1</td>\n",
       "      <td>0</td>\n",
       "      <td>A/5 21171</td>\n",
       "      <td>7.25</td>\n",
       "      <td>NaN</td>\n",
       "      <td>S</td>\n",
       "    </tr>\n",
       "  </tbody>\n",
       "</table>\n",
       "</div>"
      ],
      "text/plain": [
       "   PassengerId  Survived  Pclass                     Name   Sex   Age  SibSp  \\\n",
       "0            1         0       3  Braund, Mr. Owen Harris  male  22.0      1   \n",
       "\n",
       "   Parch     Ticket  Fare Cabin Embarked  \n",
       "0      0  A/5 21171  7.25   NaN        S  "
      ]
     },
     "execution_count": 17,
     "metadata": {},
     "output_type": "execute_result"
    }
   ],
   "source": [
    "train.head(1)"
   ]
  },
  {
   "cell_type": "markdown",
   "metadata": {},
   "source": [
    "### Summary of initial glance over data:\n",
    "\n",
    "**PassengerId** - Identification number of each passenger | **delete**\n",
    "\n",
    "**Survived** - Survived = 1, did not survive = 0 | **ready**\n",
    "\n",
    "**Pclass** - The social class of each passenger | **encode to categorical**\n",
    "\n",
    "**Name** - Name of each passenger | **might be able to do something with title**\n",
    "\n",
    "**Sex** - Sex of passenger | **encode to categorical**\n",
    "\n",
    "**Age** - Age of passenger | **ready**\n",
    "\n",
    "**SibSp** - # of siblings/spouses on board | **ready (potential combine with Parch)**\n",
    "\n",
    "**Parch** - # of parents/children on board | **ready (potential combine with SibSp)**\n",
    "\n",
    "**Ticket** - Ticket number for each passenger | **might be able to do something with leading mark**\n",
    "\n",
    "**Fare** - Ticket price for passenger | **ready**\n",
    "\n",
    "**Cabin** - Cabin number | **delete**\n",
    "\n",
    "**Embarked** - Location passenger embarked from | **encode to categorical**"
   ]
  },
  {
   "cell_type": "code",
   "execution_count": 18,
   "metadata": {},
   "outputs": [],
   "source": [
    "train.drop(['Cabin', 'PassengerId'], axis=1, inplace=True)"
   ]
  },
  {
   "cell_type": "code",
   "execution_count": 19,
   "metadata": {
    "scrolled": true
   },
   "outputs": [
    {
     "data": {
      "text/plain": [
       "Pclass     -0.369226\n",
       "SibSp      -0.308247\n",
       "Parch      -0.189119\n",
       "Survived   -0.077221\n",
       "Fare        0.096067\n",
       "Name: Age, dtype: float64"
      ]
     },
     "execution_count": 19,
     "metadata": {},
     "output_type": "execute_result"
    }
   ],
   "source": [
    "# Clean data startinng with Age\n",
    "train.corr()['Age'].sort_values()[:-1]"
   ]
  },
  {
   "cell_type": "code",
   "execution_count": 20,
   "metadata": {},
   "outputs": [
    {
     "data": {
      "image/png": "[encoded data removed]",
      "text/plain": [
       "<Figure size 864x432 with 1 Axes>"
      ]
     },
     "metadata": {},
     "output_type": "display_data"
    }
   ],
   "source": [
    "plt.figure(figsize=(12,6))\n",
    "\n",
    "AvgAgePlot = sns.boxplot(x='Pclass', y='Age', hue='Sex', data=train)\n",
    "\n",
    "m1 = train.groupby(['Pclass', 'Sex'])['Age'].mean().values\n",
    "mL1 = [str(np.round(s, 2)) for s in m1]\n",
    "\n",
    "ind = 0\n",
    "for tick in range(len(AvgAgePlot.get_xticklabels())):\n",
    "    AvgAgePlot.text(tick-.2, m1[ind+1]+1, mL1[ind+1], horizontalalignment='center', color='white', weight='semibold')\n",
    "    AvgAgePlot.text(tick+.2, m1[ind]+1, mL1[ind], horizontalalignment='center', color='white', weight='semibold')\n",
    "    ind += 2"
   ]
  },
  {
   "cell_type": "code",
   "execution_count": 21,
   "metadata": {},
   "outputs": [
    {
     "data": {
      "text/plain": [
       "Pclass  Sex   \n",
       "1       female    34.611765\n",
       "        male      41.281386\n",
       "2       female    28.722973\n",
       "        male      30.740707\n",
       "3       female    21.750000\n",
       "        male      26.507589\n",
       "Name: Age, dtype: float64"
      ]
     },
     "execution_count": 21,
     "metadata": {},
     "output_type": "execute_result"
    }
   ],
   "source": [
    "age_chart = train.groupby(['Pclass','Sex']).mean()['Age']\n",
    "age_chart"
   ]
  },
  {
   "cell_type": "code",
   "execution_count": 22,
   "metadata": {},
   "outputs": [
    {
     "data": {
      "text/plain": [
       "34.61176470588235"
      ]
     },
     "execution_count": 22,
     "metadata": {},
     "output_type": "execute_result"
    }
   ],
   "source": [
    "age_chart.xs([1, 'female'])"
   ]
  },
  {
   "cell_type": "code",
   "execution_count": 23,
   "metadata": {},
   "outputs": [],
   "source": [
    "def fill_age(Pclass, Sex, Age):\n",
    "    if pd.isnull(Age):\n",
    "        return age_chart.xs([Pclass, Sex])\n",
    "    else:\n",
    "        return Age"
   ]
  },
  {
   "cell_type": "code",
   "execution_count": 24,
   "metadata": {},
   "outputs": [],
   "source": [
    "# Fill the null Age values with the average age of the person with specific Sex and Pclass\n",
    "train['Age'] = train.apply(lambda x: fill_age(x['Pclass'], x['Sex'], x['Age']), axis=1)"
   ]
  },
  {
   "cell_type": "code",
   "execution_count": 25,
   "metadata": {},
   "outputs": [],
   "source": [
    "# We will just drop the 2 entries with unknown Embarked locations\n",
    "train = train.dropna()"
   ]
  },
  {
   "cell_type": "code",
   "execution_count": 26,
   "metadata": {},
   "outputs": [
    {
     "data": {
      "text/plain": [
       "Survived    0\n",
       "Pclass      0\n",
       "Name        0\n",
       "Sex         0\n",
       "Age         0\n",
       "SibSp       0\n",
       "Parch       0\n",
       "Ticket      0\n",
       "Fare        0\n",
       "Embarked    0\n",
       "dtype: int64"
      ]
     },
     "execution_count": 26,
     "metadata": {},
     "output_type": "execute_result"
    }
   ],
   "source": [
    "train.isnull().sum()"
   ]
  },
  {
   "cell_type": "code",
   "execution_count": 27,
   "metadata": {
    "scrolled": false
   },
   "outputs": [
    {
     "data": {
      "text/html": [
       "<div>\n",
       "<style scoped>\n",
       "    .dataframe tbody tr th:only-of-type {\n",
       "        vertical-align: middle;\n",
       "    }\n",
       "\n",
       "    .dataframe tbody tr th {\n",
       "        vertical-align: top;\n",
       "    }\n",
       "\n",
       "    .dataframe thead th {\n",
       "        text-align: right;\n",
       "    }\n",
       "</style>\n",
       "<table border=\"1\" class=\"dataframe\">\n",
       "  <thead>\n",
       "    <tr style=\"text-align: right;\">\n",
       "      <th></th>\n",
       "      <th>Survived</th>\n",
       "      <th>Pclass</th>\n",
       "      <th>Name</th>\n",
       "      <th>Sex</th>\n",
       "      <th>Age</th>\n",
       "      <th>SibSp</th>\n",
       "      <th>Parch</th>\n",
       "      <th>Ticket</th>\n",
       "      <th>Fare</th>\n",
       "      <th>Embarked</th>\n",
       "    </tr>\n",
       "  </thead>\n",
       "  <tbody>\n",
       "    <tr>\n",
       "      <td>0</td>\n",
       "      <td>0</td>\n",
       "      <td>3</td>\n",
       "      <td>Braund, Mr. Owen Harris</td>\n",
       "      <td>male</td>\n",
       "      <td>22.0</td>\n",
       "      <td>1</td>\n",
       "      <td>0</td>\n",
       "      <td>A/5 21171</td>\n",
       "      <td>7.25</td>\n",
       "      <td>S</td>\n",
       "    </tr>\n",
       "  </tbody>\n",
       "</table>\n",
       "</div>"
      ],
      "text/plain": [
       "   Survived  Pclass                     Name   Sex   Age  SibSp  Parch  \\\n",
       "0         0       3  Braund, Mr. Owen Harris  male  22.0      1      0   \n",
       "\n",
       "      Ticket  Fare Embarked  \n",
       "0  A/5 21171  7.25        S  "
      ]
     },
     "execution_count": 27,
     "metadata": {},
     "output_type": "execute_result"
    }
   ],
   "source": [
    "train.head(1)"
   ]
  },
  {
   "cell_type": "code",
   "execution_count": 28,
   "metadata": {},
   "outputs": [
    {
     "data": {
      "text/plain": [
       "'Mr'"
      ]
     },
     "execution_count": 28,
     "metadata": {},
     "output_type": "execute_result"
    }
   ],
   "source": [
    "# splitting up the title for each person\n",
    "train['Name'][405].split('.')[0].split()[-1]"
   ]
  },
  {
   "cell_type": "code",
   "execution_count": 29,
   "metadata": {},
   "outputs": [],
   "source": [
    "def title_in_name(Name):\n",
    "    if '.' in Name:\n",
    "        return Name.split('.')[0].split()[-1]    "
   ]
  },
  {
   "cell_type": "code",
   "execution_count": 30,
   "metadata": {},
   "outputs": [],
   "source": [
    "train['title'] = train['Name'].apply(title_in_name)"
   ]
  },
  {
   "cell_type": "code",
   "execution_count": 31,
   "metadata": {},
   "outputs": [],
   "source": [
    "train.drop('Name', axis=1, inplace=True)"
   ]
  },
  {
   "cell_type": "code",
   "execution_count": 32,
   "metadata": {},
   "outputs": [
    {
     "data": {
      "text/html": [
       "<div>\n",
       "<style scoped>\n",
       "    .dataframe tbody tr th:only-of-type {\n",
       "        vertical-align: middle;\n",
       "    }\n",
       "\n",
       "    .dataframe tbody tr th {\n",
       "        vertical-align: top;\n",
       "    }\n",
       "\n",
       "    .dataframe thead th {\n",
       "        text-align: right;\n",
       "    }\n",
       "</style>\n",
       "<table border=\"1\" class=\"dataframe\">\n",
       "  <thead>\n",
       "    <tr style=\"text-align: right;\">\n",
       "      <th></th>\n",
       "      <th>Survived</th>\n",
       "      <th>Pclass</th>\n",
       "      <th>Sex</th>\n",
       "      <th>Age</th>\n",
       "      <th>SibSp</th>\n",
       "      <th>Parch</th>\n",
       "      <th>Ticket</th>\n",
       "      <th>Fare</th>\n",
       "      <th>Embarked</th>\n",
       "      <th>title</th>\n",
       "    </tr>\n",
       "  </thead>\n",
       "  <tbody>\n",
       "    <tr>\n",
       "      <td>0</td>\n",
       "      <td>0</td>\n",
       "      <td>3</td>\n",
       "      <td>male</td>\n",
       "      <td>22.0</td>\n",
       "      <td>1</td>\n",
       "      <td>0</td>\n",
       "      <td>A/5 21171</td>\n",
       "      <td>7.2500</td>\n",
       "      <td>S</td>\n",
       "      <td>Mr</td>\n",
       "    </tr>\n",
       "    <tr>\n",
       "      <td>1</td>\n",
       "      <td>1</td>\n",
       "      <td>1</td>\n",
       "      <td>female</td>\n",
       "      <td>38.0</td>\n",
       "      <td>1</td>\n",
       "      <td>0</td>\n",
       "      <td>PC 17599</td>\n",
       "      <td>71.2833</td>\n",
       "      <td>C</td>\n",
       "      <td>Mrs</td>\n",
       "    </tr>\n",
       "    <tr>\n",
       "      <td>2</td>\n",
       "      <td>1</td>\n",
       "      <td>3</td>\n",
       "      <td>female</td>\n",
       "      <td>26.0</td>\n",
       "      <td>0</td>\n",
       "      <td>0</td>\n",
       "      <td>STON/O2. 3101282</td>\n",
       "      <td>7.9250</td>\n",
       "      <td>S</td>\n",
       "      <td>Miss</td>\n",
       "    </tr>\n",
       "    <tr>\n",
       "      <td>3</td>\n",
       "      <td>1</td>\n",
       "      <td>1</td>\n",
       "      <td>female</td>\n",
       "      <td>35.0</td>\n",
       "      <td>1</td>\n",
       "      <td>0</td>\n",
       "      <td>113803</td>\n",
       "      <td>53.1000</td>\n",
       "      <td>S</td>\n",
       "      <td>Mrs</td>\n",
       "    </tr>\n",
       "    <tr>\n",
       "      <td>4</td>\n",
       "      <td>0</td>\n",
       "      <td>3</td>\n",
       "      <td>male</td>\n",
       "      <td>35.0</td>\n",
       "      <td>0</td>\n",
       "      <td>0</td>\n",
       "      <td>373450</td>\n",
       "      <td>8.0500</td>\n",
       "      <td>S</td>\n",
       "      <td>Mr</td>\n",
       "    </tr>\n",
       "  </tbody>\n",
       "</table>\n",
       "</div>"
      ],
      "text/plain": [
       "   Survived  Pclass     Sex   Age  SibSp  Parch            Ticket     Fare  \\\n",
       "0         0       3    male  22.0      1      0         A/5 21171   7.2500   \n",
       "1         1       1  female  38.0      1      0          PC 17599  71.2833   \n",
       "2         1       3  female  26.0      0      0  STON/O2. 3101282   7.9250   \n",
       "3         1       1  female  35.0      1      0            113803  53.1000   \n",
       "4         0       3    male  35.0      0      0            373450   8.0500   \n",
       "\n",
       "  Embarked title  \n",
       "0        S    Mr  \n",
       "1        C   Mrs  \n",
       "2        S  Miss  \n",
       "3        S   Mrs  \n",
       "4        S    Mr  "
      ]
     },
     "execution_count": 32,
     "metadata": {},
     "output_type": "execute_result"
    }
   ],
   "source": [
    "train.head()"
   ]
  },
  {
   "cell_type": "code",
   "execution_count": 33,
   "metadata": {},
   "outputs": [
    {
     "data": {
      "text/plain": [
       "Mr          517\n",
       "Miss        181\n",
       "Mrs         124\n",
       "Master       40\n",
       "Dr            7\n",
       "Rev           6\n",
       "Col           2\n",
       "Major         2\n",
       "Mlle          2\n",
       "Capt          1\n",
       "Countess      1\n",
       "Lady          1\n",
       "Sir           1\n",
       "Mme           1\n",
       "Don           1\n",
       "Ms            1\n",
       "Jonkheer      1\n",
       "Name: title, dtype: int64"
      ]
     },
     "execution_count": 33,
     "metadata": {},
     "output_type": "execute_result"
    }
   ],
   "source": [
    "train['title'].value_counts()"
   ]
  },
  {
   "cell_type": "code",
   "execution_count": 34,
   "metadata": {},
   "outputs": [],
   "source": [
    "other_list = []\n",
    "\n",
    "for i, num in enumerate(train['title'].value_counts()):\n",
    "    if num < 3:\n",
    "        other_list.append(train['title'].value_counts().index[i])"
   ]
  },
  {
   "cell_type": "code",
   "execution_count": 35,
   "metadata": {
    "scrolled": true
   },
   "outputs": [
    {
     "data": {
      "text/plain": [
       "['Col',\n",
       " 'Major',\n",
       " 'Mlle',\n",
       " 'Capt',\n",
       " 'Countess',\n",
       " 'Lady',\n",
       " 'Sir',\n",
       " 'Mme',\n",
       " 'Don',\n",
       " 'Ms',\n",
       " 'Jonkheer']"
      ]
     },
     "execution_count": 35,
     "metadata": {},
     "output_type": "execute_result"
    }
   ],
   "source": [
    "other_list"
   ]
  },
  {
   "cell_type": "code",
   "execution_count": 36,
   "metadata": {},
   "outputs": [],
   "source": [
    "train['title'] = train['title'].replace(other_list, 'other')"
   ]
  },
  {
   "cell_type": "code",
   "execution_count": 37,
   "metadata": {},
   "outputs": [
    {
     "data": {
      "text/plain": [
       "Mr        517\n",
       "Miss      181\n",
       "Mrs       124\n",
       "Master     40\n",
       "other      14\n",
       "Dr          7\n",
       "Rev         6\n",
       "Name: title, dtype: int64"
      ]
     },
     "execution_count": 37,
     "metadata": {},
     "output_type": "execute_result"
    }
   ],
   "source": [
    "train['title'].value_counts()"
   ]
  },
  {
   "cell_type": "code",
   "execution_count": 38,
   "metadata": {},
   "outputs": [],
   "source": [
    "# now that the titles are classified into smaller groups, we will categorize them into features\n",
    "title_dummies = pd.get_dummies(train['title'], prefix='title', drop_first=True)\n",
    "train = pd.concat([train, title_dummies], axis=1)\n",
    "train.drop('title', axis=1, inplace=True)"
   ]
  },
  {
   "cell_type": "code",
   "execution_count": 39,
   "metadata": {},
   "outputs": [
    {
     "data": {
      "text/html": [
       "<div>\n",
       "<style scoped>\n",
       "    .dataframe tbody tr th:only-of-type {\n",
       "        vertical-align: middle;\n",
       "    }\n",
       "\n",
       "    .dataframe tbody tr th {\n",
       "        vertical-align: top;\n",
       "    }\n",
       "\n",
       "    .dataframe thead th {\n",
       "        text-align: right;\n",
       "    }\n",
       "</style>\n",
       "<table border=\"1\" class=\"dataframe\">\n",
       "  <thead>\n",
       "    <tr style=\"text-align: right;\">\n",
       "      <th></th>\n",
       "      <th>Survived</th>\n",
       "      <th>Pclass</th>\n",
       "      <th>Sex</th>\n",
       "      <th>Age</th>\n",
       "      <th>SibSp</th>\n",
       "      <th>Parch</th>\n",
       "      <th>Ticket</th>\n",
       "      <th>Fare</th>\n",
       "      <th>Embarked</th>\n",
       "      <th>title_Master</th>\n",
       "      <th>title_Miss</th>\n",
       "      <th>title_Mr</th>\n",
       "      <th>title_Mrs</th>\n",
       "      <th>title_Rev</th>\n",
       "      <th>title_other</th>\n",
       "    </tr>\n",
       "  </thead>\n",
       "  <tbody>\n",
       "    <tr>\n",
       "      <td>0</td>\n",
       "      <td>0</td>\n",
       "      <td>3</td>\n",
       "      <td>male</td>\n",
       "      <td>22.0</td>\n",
       "      <td>1</td>\n",
       "      <td>0</td>\n",
       "      <td>A/5 21171</td>\n",
       "      <td>7.25</td>\n",
       "      <td>S</td>\n",
       "      <td>0</td>\n",
       "      <td>0</td>\n",
       "      <td>1</td>\n",
       "      <td>0</td>\n",
       "      <td>0</td>\n",
       "      <td>0</td>\n",
       "    </tr>\n",
       "  </tbody>\n",
       "</table>\n",
       "</div>"
      ],
      "text/plain": [
       "   Survived  Pclass   Sex   Age  SibSp  Parch     Ticket  Fare Embarked  \\\n",
       "0         0       3  male  22.0      1      0  A/5 21171  7.25        S   \n",
       "\n",
       "   title_Master  title_Miss  title_Mr  title_Mrs  title_Rev  title_other  \n",
       "0             0           0         1          0          0            0  "
      ]
     },
     "execution_count": 39,
     "metadata": {},
     "output_type": "execute_result"
    }
   ],
   "source": [
    "train.head(1)"
   ]
  },
  {
   "cell_type": "code",
   "execution_count": 40,
   "metadata": {},
   "outputs": [
    {
     "name": "stdout",
     "output_type": "stream",
     "text": [
      "Number of unique variables for Pclass:  3\n",
      "Number of unique variables for Sex:  2\n",
      "Number of unique variables for Embarked:  3\n"
     ]
    }
   ],
   "source": [
    "print('Number of unique variables for Pclass: ', train['Pclass'].nunique())\n",
    "print('Number of unique variables for Sex: ', train['Sex'].nunique())\n",
    "print('Number of unique variables for Embarked: ', train['Embarked'].nunique())"
   ]
  },
  {
   "cell_type": "code",
   "execution_count": 41,
   "metadata": {},
   "outputs": [],
   "source": [
    "# now lets make the Pclass, Sex, and Embarked columns categorical\n",
    "Pclass_dummies = pd.get_dummies(train['Pclass'], prefix='Pclass', drop_first=True)\n",
    "Sex_dummies = pd.get_dummies(train['Sex'], prefix='Sex', drop_first=True)\n",
    "Embarked_dummies = pd.get_dummies(train['Embarked'], prefix='Embarked', drop_first=True)\n",
    "\n",
    "\n",
    "\n",
    "train = pd.concat([train, Pclass_dummies, Sex_dummies, Embarked_dummies], axis=1)\n",
    "train.drop(['Sex','Embarked', 'Pclass'], axis=1, inplace=True)"
   ]
  },
  {
   "cell_type": "code",
   "execution_count": 42,
   "metadata": {},
   "outputs": [
    {
     "data": {
      "text/html": [
       "<div>\n",
       "<style scoped>\n",
       "    .dataframe tbody tr th:only-of-type {\n",
       "        vertical-align: middle;\n",
       "    }\n",
       "\n",
       "    .dataframe tbody tr th {\n",
       "        vertical-align: top;\n",
       "    }\n",
       "\n",
       "    .dataframe thead th {\n",
       "        text-align: right;\n",
       "    }\n",
       "</style>\n",
       "<table border=\"1\" class=\"dataframe\">\n",
       "  <thead>\n",
       "    <tr style=\"text-align: right;\">\n",
       "      <th></th>\n",
       "      <th>Survived</th>\n",
       "      <th>Age</th>\n",
       "      <th>SibSp</th>\n",
       "      <th>Parch</th>\n",
       "      <th>Ticket</th>\n",
       "      <th>Fare</th>\n",
       "      <th>title_Master</th>\n",
       "      <th>title_Miss</th>\n",
       "      <th>title_Mr</th>\n",
       "      <th>title_Mrs</th>\n",
       "      <th>title_Rev</th>\n",
       "      <th>title_other</th>\n",
       "      <th>Pclass_2</th>\n",
       "      <th>Pclass_3</th>\n",
       "      <th>Sex_male</th>\n",
       "      <th>Embarked_Q</th>\n",
       "      <th>Embarked_S</th>\n",
       "    </tr>\n",
       "  </thead>\n",
       "  <tbody>\n",
       "    <tr>\n",
       "      <td>0</td>\n",
       "      <td>0</td>\n",
       "      <td>22.0</td>\n",
       "      <td>1</td>\n",
       "      <td>0</td>\n",
       "      <td>A/5 21171</td>\n",
       "      <td>7.25</td>\n",
       "      <td>0</td>\n",
       "      <td>0</td>\n",
       "      <td>1</td>\n",
       "      <td>0</td>\n",
       "      <td>0</td>\n",
       "      <td>0</td>\n",
       "      <td>0</td>\n",
       "      <td>1</td>\n",
       "      <td>1</td>\n",
       "      <td>0</td>\n",
       "      <td>1</td>\n",
       "    </tr>\n",
       "  </tbody>\n",
       "</table>\n",
       "</div>"
      ],
      "text/plain": [
       "   Survived   Age  SibSp  Parch     Ticket  Fare  title_Master  title_Miss  \\\n",
       "0         0  22.0      1      0  A/5 21171  7.25             0           0   \n",
       "\n",
       "   title_Mr  title_Mrs  title_Rev  title_other  Pclass_2  Pclass_3  Sex_male  \\\n",
       "0         1          0          0            0         0         1         1   \n",
       "\n",
       "   Embarked_Q  Embarked_S  \n",
       "0           0           1  "
      ]
     },
     "execution_count": 42,
     "metadata": {},
     "output_type": "execute_result"
    }
   ],
   "source": [
    "train.head(1)"
   ]
  },
  {
   "cell_type": "code",
   "execution_count": 43,
   "metadata": {},
   "outputs": [],
   "source": [
    "tick_abrev = []\n",
    "oth_feats = []\n",
    "\n",
    "for i,tick in enumerate(train['Ticket']):\n",
    "    if len(tick.split()) < 2:\n",
    "        pass\n",
    "    else:\n",
    "        tick_abrev.append(tick.split()[0])\n",
    "        oth_feats.append((train['Survived'][i], train['Sex_male'][i]))"
   ]
  },
  {
   "cell_type": "code",
   "execution_count": 44,
   "metadata": {},
   "outputs": [
    {
     "name": "stdout",
     "output_type": "stream",
     "text": [
      "Percent of people who survived with a ticket abv: 37.17 %\n"
     ]
    }
   ],
   "source": [
    "# Look at the percentage of people who survived that had a ticket abreviation\n",
    "tick_surv = round(100 * pd.DataFrame(oth_feats, columns=['Survived', 'Sex_male'])['Survived'].sum()/len(tick_abrev), 2)\n",
    "print(f'Percent of people who survived with a ticket abv: {tick_surv} %')"
   ]
  },
  {
   "cell_type": "code",
   "execution_count": 45,
   "metadata": {},
   "outputs": [
    {
     "name": "stdout",
     "output_type": "stream",
     "text": [
      "Percent of people who survived in training set: 38.25 %\n"
     ]
    }
   ],
   "source": [
    "train_surv = round(100*train['Survived'].sum()/len(train), 2)\n",
    "print(f'Percent of people who survived in training set: {train_surv} %')"
   ]
  },
  {
   "cell_type": "markdown",
   "metadata": {},
   "source": [
    "**Since the percent of people who survived with a ticket abv vs the whole training set is roughly the same, we can infer that there is no strong correlation between survival and having a ticket abreviation.**\n",
    "\n",
    "We will drop the Ticket feature now."
   ]
  },
  {
   "cell_type": "code",
   "execution_count": 46,
   "metadata": {},
   "outputs": [],
   "source": [
    "train.drop('Ticket', axis=1, inplace=True)"
   ]
  },
  {
   "cell_type": "code",
   "execution_count": 47,
   "metadata": {},
   "outputs": [
    {
     "data": {
      "text/html": [
       "<div>\n",
       "<style scoped>\n",
       "    .dataframe tbody tr th:only-of-type {\n",
       "        vertical-align: middle;\n",
       "    }\n",
       "\n",
       "    .dataframe tbody tr th {\n",
       "        vertical-align: top;\n",
       "    }\n",
       "\n",
       "    .dataframe thead th {\n",
       "        text-align: right;\n",
       "    }\n",
       "</style>\n",
       "<table border=\"1\" class=\"dataframe\">\n",
       "  <thead>\n",
       "    <tr style=\"text-align: right;\">\n",
       "      <th></th>\n",
       "      <th>Survived</th>\n",
       "      <th>Age</th>\n",
       "      <th>SibSp</th>\n",
       "      <th>Parch</th>\n",
       "      <th>Fare</th>\n",
       "      <th>title_Master</th>\n",
       "      <th>title_Miss</th>\n",
       "      <th>title_Mr</th>\n",
       "      <th>title_Mrs</th>\n",
       "      <th>title_Rev</th>\n",
       "      <th>title_other</th>\n",
       "      <th>Pclass_2</th>\n",
       "      <th>Pclass_3</th>\n",
       "      <th>Sex_male</th>\n",
       "      <th>Embarked_Q</th>\n",
       "      <th>Embarked_S</th>\n",
       "    </tr>\n",
       "  </thead>\n",
       "  <tbody>\n",
       "    <tr>\n",
       "      <td>0</td>\n",
       "      <td>0</td>\n",
       "      <td>22.0</td>\n",
       "      <td>1</td>\n",
       "      <td>0</td>\n",
       "      <td>7.25</td>\n",
       "      <td>0</td>\n",
       "      <td>0</td>\n",
       "      <td>1</td>\n",
       "      <td>0</td>\n",
       "      <td>0</td>\n",
       "      <td>0</td>\n",
       "      <td>0</td>\n",
       "      <td>1</td>\n",
       "      <td>1</td>\n",
       "      <td>0</td>\n",
       "      <td>1</td>\n",
       "    </tr>\n",
       "  </tbody>\n",
       "</table>\n",
       "</div>"
      ],
      "text/plain": [
       "   Survived   Age  SibSp  Parch  Fare  title_Master  title_Miss  title_Mr  \\\n",
       "0         0  22.0      1      0  7.25             0           0         1   \n",
       "\n",
       "   title_Mrs  title_Rev  title_other  Pclass_2  Pclass_3  Sex_male  \\\n",
       "0          0          0            0         0         1         1   \n",
       "\n",
       "   Embarked_Q  Embarked_S  \n",
       "0           0           1  "
      ]
     },
     "execution_count": 47,
     "metadata": {},
     "output_type": "execute_result"
    }
   ],
   "source": [
    "train.head(1)"
   ]
  },
  {
   "cell_type": "markdown",
   "metadata": {},
   "source": [
    "### Parch and SibSp feature analysis\n",
    "\n",
    "The last few features that are of interst would be Parch and SibSp. Lets see if there is a strong correlation with survival for people that have family on board vs being alone."
   ]
  },
  {
   "cell_type": "code",
   "execution_count": 48,
   "metadata": {},
   "outputs": [],
   "source": [
    "# Lets create a feature for identifying if people are alone\n",
    "def lonely(Parch, SibSp):\n",
    "    if Parch == 0 and SibSp == 0:\n",
    "        return 1\n",
    "    else:\n",
    "        return 0"
   ]
  },
  {
   "cell_type": "code",
   "execution_count": 49,
   "metadata": {},
   "outputs": [],
   "source": [
    "train['Alone'] = train.apply(lambda x: lonely(x['Parch'], x['SibSp']), axis=1)"
   ]
  },
  {
   "cell_type": "code",
   "execution_count": 50,
   "metadata": {
    "scrolled": true
   },
   "outputs": [
    {
     "data": {
      "text/html": [
       "<div>\n",
       "<style scoped>\n",
       "    .dataframe tbody tr th:only-of-type {\n",
       "        vertical-align: middle;\n",
       "    }\n",
       "\n",
       "    .dataframe tbody tr th {\n",
       "        vertical-align: top;\n",
       "    }\n",
       "\n",
       "    .dataframe thead th {\n",
       "        text-align: right;\n",
       "    }\n",
       "</style>\n",
       "<table border=\"1\" class=\"dataframe\">\n",
       "  <thead>\n",
       "    <tr style=\"text-align: right;\">\n",
       "      <th></th>\n",
       "      <th>Survived</th>\n",
       "      <th>Age</th>\n",
       "      <th>SibSp</th>\n",
       "      <th>Parch</th>\n",
       "      <th>Fare</th>\n",
       "      <th>title_Master</th>\n",
       "      <th>title_Miss</th>\n",
       "      <th>title_Mr</th>\n",
       "      <th>title_Mrs</th>\n",
       "      <th>title_Rev</th>\n",
       "      <th>title_other</th>\n",
       "      <th>Pclass_2</th>\n",
       "      <th>Pclass_3</th>\n",
       "      <th>Sex_male</th>\n",
       "      <th>Embarked_Q</th>\n",
       "      <th>Embarked_S</th>\n",
       "      <th>Alone</th>\n",
       "    </tr>\n",
       "  </thead>\n",
       "  <tbody>\n",
       "    <tr>\n",
       "      <td>0</td>\n",
       "      <td>0</td>\n",
       "      <td>22.0</td>\n",
       "      <td>1</td>\n",
       "      <td>0</td>\n",
       "      <td>7.25</td>\n",
       "      <td>0</td>\n",
       "      <td>0</td>\n",
       "      <td>1</td>\n",
       "      <td>0</td>\n",
       "      <td>0</td>\n",
       "      <td>0</td>\n",
       "      <td>0</td>\n",
       "      <td>1</td>\n",
       "      <td>1</td>\n",
       "      <td>0</td>\n",
       "      <td>1</td>\n",
       "      <td>0</td>\n",
       "    </tr>\n",
       "  </tbody>\n",
       "</table>\n",
       "</div>"
      ],
      "text/plain": [
       "   Survived   Age  SibSp  Parch  Fare  title_Master  title_Miss  title_Mr  \\\n",
       "0         0  22.0      1      0  7.25             0           0         1   \n",
       "\n",
       "   title_Mrs  title_Rev  title_other  Pclass_2  Pclass_3  Sex_male  \\\n",
       "0          0          0            0         0         1         1   \n",
       "\n",
       "   Embarked_Q  Embarked_S  Alone  \n",
       "0           0           1      0  "
      ]
     },
     "execution_count": 50,
     "metadata": {},
     "output_type": "execute_result"
    }
   ],
   "source": [
    "train.head(1)"
   ]
  },
  {
   "cell_type": "markdown",
   "metadata": {},
   "source": [
    "### Now we need to train the model"
   ]
  },
  {
   "cell_type": "code",
   "execution_count": 51,
   "metadata": {},
   "outputs": [],
   "source": [
    "from sklearn.model_selection import train_test_split"
   ]
  },
  {
   "cell_type": "code",
   "execution_count": 52,
   "metadata": {},
   "outputs": [],
   "source": [
    "X = train.drop('Survived', axis=1)\n",
    "y = train['Survived']"
   ]
  },
  {
   "cell_type": "code",
   "execution_count": 53,
   "metadata": {},
   "outputs": [],
   "source": [
    "X_train, X_test, y_train, y_test = train_test_split(X, y, test_size=0.30)"
   ]
  },
  {
   "cell_type": "markdown",
   "metadata": {},
   "source": [
    "**Import the models that we want to try for our GridSearch**"
   ]
  },
  {
   "cell_type": "code",
   "execution_count": 54,
   "metadata": {},
   "outputs": [],
   "source": [
    "from sklearn.linear_model import LogisticRegression\n",
    "from sklearn.svm import SVC, LinearSVC, NuSVC\n",
    "from sklearn.ensemble import AdaBoostClassifier, RandomForestClassifier\n",
    "from sklearn.tree import DecisionTreeClassifier"
   ]
  },
  {
   "cell_type": "markdown",
   "metadata": {},
   "source": [
    "**Import modules for cross validation of our models**"
   ]
  },
  {
   "cell_type": "code",
   "execution_count": 55,
   "metadata": {},
   "outputs": [],
   "source": [
    "# we will use KFold cross_validation method first, then we might try 'hold-out'\n",
    "from sklearn.model_selection import StratifiedKFold, cross_validate, cross_val_score, KFold"
   ]
  },
  {
   "cell_type": "code",
   "execution_count": 56,
   "metadata": {},
   "outputs": [],
   "source": [
    "# Cross validate the model\n",
    "kfold = StratifiedKFold(n_splits=10)"
   ]
  },
  {
   "cell_type": "code",
   "execution_count": 61,
   "metadata": {},
   "outputs": [],
   "source": [
    "rs = 2\n",
    "LogReg = LogisticRegression(random_state=rs)\n",
    "svc = SVC(random_state=rs)\n",
    "lin_svc = LinearSVC(random_state=rs)\n",
    "AdaBoostC_DTC = AdaBoostClassifier(DecisionTreeClassifier(random_state=rs), random_state=rs)\n",
    "AdaBoostC_RFC = AdaBoostClassifier(RandomForestClassifier(n_estimators=100, random_state=rs))\n",
    "RFC = RandomForestClassifier(n_estimators=100, random_state=rs)"
   ]
  },
  {
   "cell_type": "code",
   "execution_count": 62,
   "metadata": {},
   "outputs": [],
   "source": [
    "# Grouping our classifiers into a list for easy assessment\n",
    "classifiers = []\n",
    "classifiers.append(LogReg)\n",
    "classifiers.append(svc)\n",
    "classifiers.append(lin_svc)\n",
    "classifiers.append(RFC)\n",
    "classifiers.append(AdaBoostC_RFC)\n",
    "classifiers.append(AdaBoostC_DTC)"
   ]
  },
  {
   "cell_type": "code",
   "execution_count": 63,
   "metadata": {},
   "outputs": [],
   "source": [
    "# run each model initially, and compare the cross-validation scores\n",
    "import time\n",
    "cv_results = []\n",
    "time_tbl = []\n",
    "\n",
    "for cls in classifiers:\n",
    "    start = time.time()\n",
    "    cv_results.append(cross_val_score(cls, X=X_train, y=y_train, cv=kfold, n_jobs=-1, scoring='accuracy'))\n",
    "    end = time.time()\n",
    "    time_tbl.append(end-start)\n",
    "\n",
    "cv_mean = []\n",
    "cv_std = []\n",
    "\n",
    "for res in cv_results:\n",
    "    cv_mean.append(np.mean(res))\n",
    "    cv_std.append(np.std(res))\n",
    "\n",
    "cv_result = pd.DataFrame(data={'Mean CV Scores':cv_mean, 'Std of CV Scores':cv_std, 'Efficiency in Time':time_tbl}, \n",
    "                         index=['LogReg', 'SVC', 'Lin_SVC', 'RFC', 'AdaBC w/ RFC','AdaBC w/ DTC'],)"
   ]
  },
  {
   "cell_type": "code",
   "execution_count": 64,
   "metadata": {
    "scrolled": true
   },
   "outputs": [
    {
     "data": {
      "text/html": [
       "<div>\n",
       "<style scoped>\n",
       "    .dataframe tbody tr th:only-of-type {\n",
       "        vertical-align: middle;\n",
       "    }\n",
       "\n",
       "    .dataframe tbody tr th {\n",
       "        vertical-align: top;\n",
       "    }\n",
       "\n",
       "    .dataframe thead th {\n",
       "        text-align: right;\n",
       "    }\n",
       "</style>\n",
       "<table border=\"1\" class=\"dataframe\">\n",
       "  <thead>\n",
       "    <tr style=\"text-align: right;\">\n",
       "      <th></th>\n",
       "      <th>Mean CV Scores</th>\n",
       "      <th>Std of CV Scores</th>\n",
       "      <th>Efficiency in Time</th>\n",
       "    </tr>\n",
       "  </thead>\n",
       "  <tbody>\n",
       "    <tr>\n",
       "      <td>LogReg</td>\n",
       "      <td>0.832714</td>\n",
       "      <td>0.050226</td>\n",
       "      <td>0.027903</td>\n",
       "    </tr>\n",
       "    <tr>\n",
       "      <td>RFC</td>\n",
       "      <td>0.805290</td>\n",
       "      <td>0.042884</td>\n",
       "      <td>0.135637</td>\n",
       "    </tr>\n",
       "    <tr>\n",
       "      <td>AdaBC w/ RFC</td>\n",
       "      <td>0.792516</td>\n",
       "      <td>0.043217</td>\n",
       "      <td>6.081739</td>\n",
       "    </tr>\n",
       "    <tr>\n",
       "      <td>AdaBC w/ DTC</td>\n",
       "      <td>0.776516</td>\n",
       "      <td>0.046577</td>\n",
       "      <td>0.113695</td>\n",
       "    </tr>\n",
       "    <tr>\n",
       "      <td>Lin_SVC</td>\n",
       "      <td>0.773651</td>\n",
       "      <td>0.064313</td>\n",
       "      <td>0.054852</td>\n",
       "    </tr>\n",
       "    <tr>\n",
       "      <td>SVC</td>\n",
       "      <td>0.738008</td>\n",
       "      <td>0.036230</td>\n",
       "      <td>0.035903</td>\n",
       "    </tr>\n",
       "  </tbody>\n",
       "</table>\n",
       "</div>"
      ],
      "text/plain": [
       "              Mean CV Scores  Std of CV Scores  Efficiency in Time\n",
       "LogReg              0.832714          0.050226            0.027903\n",
       "RFC                 0.805290          0.042884            0.135637\n",
       "AdaBC w/ RFC        0.792516          0.043217            6.081739\n",
       "AdaBC w/ DTC        0.776516          0.046577            0.113695\n",
       "Lin_SVC             0.773651          0.064313            0.054852\n",
       "SVC                 0.738008          0.036230            0.035903"
      ]
     },
     "execution_count": 64,
     "metadata": {},
     "output_type": "execute_result"
    }
   ],
   "source": [
    "cv_result_sort = cv_result.sort_values(by='Mean CV Scores', ascending=False)\n",
    "cv_result_sort"
   ]
  },
  {
   "cell_type": "code",
   "execution_count": 65,
   "metadata": {},
   "outputs": [
    {
     "data": {
      "text/plain": [
       "<matplotlib.axes._subplots.AxesSubplot at 0x166de199348>"
      ]
     },
     "execution_count": 65,
     "metadata": {},
     "output_type": "execute_result"
    },
    {
     "data": {
      "image/png": "[encoded data removed]",
      "text/plain": [
       "<Figure size 432x288 with 1 Axes>"
      ]
     },
     "metadata": {},
     "output_type": "display_data"
    }
   ],
   "source": [
    "sns.barplot(x='Mean CV Scores', y=cv_result_sort.index, data=cv_result_sort, **{'xerr':cv_std})"
   ]
  },
  {
   "cell_type": "markdown",
   "metadata": {},
   "source": [
    "### SVC hyperparameter tuning\n",
    "**Gamma** - value correlates to how the model is trying to fit to the data - the higher the gamma, the more fitting. Gamma value is only for non-linear kernels (rbf, poly, sigmoid) - values of roughly 10 and lower... maybe 100\n",
    "\n",
    "**C** - is the penalty parameter of the error term, difference between smooth boundary and classifying points. The higher the C value, the more overfitting that will occur - values of 0.1 - 1000 ?\n",
    "\n",
    "**degree** - is only used for 'poly' kernels, sets the degrees of freedom for the parameters"
   ]
  },
  {
   "cell_type": "markdown",
   "metadata": {},
   "source": [
    "### Time to set parameter grids for each model that we want to test\n",
    "We will testing every model except for the AdaBoost with RFC model. Even though it had a comparable score to the LogisticRegression model, it is an extremely inefficient model in comparison.\n",
    "    "
   ]
  },
  {
   "cell_type": "code",
   "execution_count": 66,
   "metadata": {},
   "outputs": [],
   "source": [
    "from sklearn.model_selection import GridSearchCV"
   ]
  },
  {
   "cell_type": "markdown",
   "metadata": {},
   "source": [
    "### SVC"
   ]
  },
  {
   "cell_type": "code",
   "execution_count": 67,
   "metadata": {
    "collapsed": true
   },
   "outputs": [
    {
     "name": "stderr",
     "output_type": "stream",
     "text": [
      "C:\\Users\\samdo\\Anaconda3\\lib\\site-packages\\sklearn\\model_selection\\_split.py:1978: FutureWarning: The default value of cv will change from 3 to 5 in version 0.22. Specify it explicitly to silence this warning.\n",
      "  warnings.warn(CV_WARNING, FutureWarning)\n",
      "[Parallel(n_jobs=1)]: Using backend SequentialBackend with 1 concurrent workers.\n",
      "[Parallel(n_jobs=1)]: Done   1 out of   1 | elapsed:    0.0s remaining:    0.0s\n",
      "[Parallel(n_jobs=1)]: Done   2 out of   2 | elapsed:    0.0s remaining:    0.0s\n"
     ]
    },
    {
     "name": "stdout",
     "output_type": "stream",
     "text": [
      "Fitting 3 folds for each of 84 candidates, totalling 252 fits\n",
      "[CV] C=0.1, gamma=1, kernel=rbf ......................................\n",
      "[CV] .......... C=0.1, gamma=1, kernel=rbf, score=0.611, total=   0.0s\n",
      "[CV] C=0.1, gamma=1, kernel=rbf ......................................\n",
      "[CV] .......... C=0.1, gamma=1, kernel=rbf, score=0.609, total=   0.0s\n",
      "[CV] C=0.1, gamma=1, kernel=rbf ......................................\n",
      "[CV] .......... C=0.1, gamma=1, kernel=rbf, score=0.609, total=   0.0s\n",
      "[CV] C=0.1, gamma=1, kernel=sigmoid ..................................\n",
      "[CV] ...... C=0.1, gamma=1, kernel=sigmoid, score=0.611, total=   0.0s\n",
      "[CV] C=0.1, gamma=1, kernel=sigmoid ..................................\n",
      "[CV] ...... C=0.1, gamma=1, kernel=sigmoid, score=0.609, total=   0.0s\n",
      "[CV] C=0.1, gamma=1, kernel=sigmoid ..................................\n",
      "[CV] ...... C=0.1, gamma=1, kernel=sigmoid, score=0.609, total=   0.0s\n",
      "[CV] C=0.1, gamma=0.1, kernel=rbf ....................................\n",
      "[CV] ........ C=0.1, gamma=0.1, kernel=rbf, score=0.611, total=   0.0s\n",
      "[CV] C=0.1, gamma=0.1, kernel=rbf ....................................\n",
      "[CV] ........ C=0.1, gamma=0.1, kernel=rbf, score=0.609, total=   0.0s\n",
      "[CV] C=0.1, gamma=0.1, kernel=rbf ....................................\n",
      "[CV] ........ C=0.1, gamma=0.1, kernel=rbf, score=0.609, total=   0.0s\n",
      "[CV] C=0.1, gamma=0.1, kernel=sigmoid ................................\n",
      "[CV] .... C=0.1, gamma=0.1, kernel=sigmoid, score=0.611, total=   0.0s\n",
      "[CV] C=0.1, gamma=0.1, kernel=sigmoid ................................\n",
      "[CV] .... C=0.1, gamma=0.1, kernel=sigmoid, score=0.609, total=   0.0s\n",
      "[CV] C=0.1, gamma=0.1, kernel=sigmoid ................................\n",
      "[CV] .... C=0.1, gamma=0.1, kernel=sigmoid, score=0.609, total=   0.0s\n",
      "[CV] C=0.1, gamma=0.01, kernel=rbf ...................................\n",
      "[CV] ....... C=0.1, gamma=0.01, kernel=rbf, score=0.620, total=   0.0s\n",
      "[CV] C=0.1, gamma=0.01, kernel=rbf ...................................\n",
      "[CV] ....... C=0.1, gamma=0.01, kernel=rbf, score=0.609, total=   0.0s\n",
      "[CV] C=0.1, gamma=0.01, kernel=rbf ...................................\n",
      "[CV] ....... C=0.1, gamma=0.01, kernel=rbf, score=0.623, total=   0.0s\n",
      "[CV] C=0.1, gamma=0.01, kernel=sigmoid ...............................\n",
      "[CV] ... C=0.1, gamma=0.01, kernel=sigmoid, score=0.611, total=   0.0s\n",
      "[CV] C=0.1, gamma=0.01, kernel=sigmoid ...............................\n",
      "[CV] ... C=0.1, gamma=0.01, kernel=sigmoid, score=0.609, total=   0.0s\n",
      "[CV] C=0.1, gamma=0.01, kernel=sigmoid ...............................\n",
      "[CV] ... C=0.1, gamma=0.01, kernel=sigmoid, score=0.609, total=   0.0s\n",
      "[CV] C=0.1, gamma=0.001, kernel=rbf ..................................\n",
      "[CV] ...... C=0.1, gamma=0.001, kernel=rbf, score=0.668, total=   0.0s\n",
      "[CV] C=0.1, gamma=0.001, kernel=rbf ..................................\n",
      "[CV] ...... C=0.1, gamma=0.001, kernel=rbf, score=0.652, total=   0.0s\n",
      "[CV] C=0.1, gamma=0.001, kernel=rbf ..................................\n",
      "[CV] ...... C=0.1, gamma=0.001, kernel=rbf, score=0.671, total=   0.0s\n",
      "[CV] C=0.1, gamma=0.001, kernel=sigmoid ..............................\n",
      "[CV] .. C=0.1, gamma=0.001, kernel=sigmoid, score=0.596, total=   0.0s\n",
      "[CV] C=0.1, gamma=0.001, kernel=sigmoid ..............................\n",
      "[CV] .. C=0.1, gamma=0.001, kernel=sigmoid, score=0.657, total=   0.0s\n",
      "[CV] C=0.1, gamma=0.001, kernel=sigmoid ..............................\n",
      "[CV] .. C=0.1, gamma=0.001, kernel=sigmoid, score=0.628, total=   0.0s\n",
      "[CV] C=0.1, gamma=0.0001, kernel=rbf .................................\n",
      "[CV] ..... C=0.1, gamma=0.0001, kernel=rbf, score=0.659, total=   0.0s\n",
      "[CV] C=0.1, gamma=0.0001, kernel=rbf .................................\n",
      "[CV] ..... C=0.1, gamma=0.0001, kernel=rbf, score=0.652, total=   0.0s\n",
      "[CV] C=0.1, gamma=0.0001, kernel=rbf .................................\n",
      "[CV] ..... C=0.1, gamma=0.0001, kernel=rbf, score=0.643, total=   0.0s\n",
      "[CV] C=0.1, gamma=0.0001, kernel=sigmoid .............................\n",
      "[CV] . C=0.1, gamma=0.0001, kernel=sigmoid, score=0.611, total=   0.0s\n",
      "[CV] C=0.1, gamma=0.0001, kernel=sigmoid .............................\n",
      "[CV] . C=0.1, gamma=0.0001, kernel=sigmoid, score=0.614, total=   0.0s\n",
      "[CV] C=0.1, gamma=0.0001, kernel=sigmoid .............................\n",
      "[CV] . C=0.1, gamma=0.0001, kernel=sigmoid, score=0.604, total=   0.0s\n",
      "[CV] C=0.1, gamma=1e-05, kernel=rbf ..................................\n",
      "[CV] ...... C=0.1, gamma=1e-05, kernel=rbf, score=0.611, total=   0.0s\n",
      "[CV] C=0.1, gamma=1e-05, kernel=rbf ..................................\n",
      "[CV] ...... C=0.1, gamma=1e-05, kernel=rbf, score=0.609, total=   0.0s\n",
      "[CV] C=0.1, gamma=1e-05, kernel=rbf ..................................\n",
      "[CV] ...... C=0.1, gamma=1e-05, kernel=rbf, score=0.609, total=   0.0s\n",
      "[CV] C=0.1, gamma=1e-05, kernel=sigmoid ..............................\n",
      "[CV] .. C=0.1, gamma=1e-05, kernel=sigmoid, score=0.611, total=   0.0s\n",
      "[CV] C=0.1, gamma=1e-05, kernel=sigmoid ..............................\n",
      "[CV] .. C=0.1, gamma=1e-05, kernel=sigmoid, score=0.614, total=   0.0s\n",
      "[CV] C=0.1, gamma=1e-05, kernel=sigmoid ..............................\n",
      "[CV] .. C=0.1, gamma=1e-05, kernel=sigmoid, score=0.614, total=   0.0s\n",
      "[CV] C=0.1, gamma=1e-06, kernel=rbf ..................................\n",
      "[CV] ...... C=0.1, gamma=1e-06, kernel=rbf, score=0.611, total=   0.0s\n",
      "[CV] C=0.1, gamma=1e-06, kernel=rbf ..................................\n",
      "[CV] ...... C=0.1, gamma=1e-06, kernel=rbf, score=0.609, total=   0.0s\n",
      "[CV] C=0.1, gamma=1e-06, kernel=rbf ..................................\n",
      "[CV] ...... C=0.1, gamma=1e-06, kernel=rbf, score=0.609, total=   0.0s\n",
      "[CV] C=0.1, gamma=1e-06, kernel=sigmoid ..............................\n",
      "[CV] .. C=0.1, gamma=1e-06, kernel=sigmoid, score=0.611, total=   0.0s\n",
      "[CV] C=0.1, gamma=1e-06, kernel=sigmoid ..............................\n",
      "[CV] .. C=0.1, gamma=1e-06, kernel=sigmoid, score=0.609, total=   0.0s\n",
      "[CV] C=0.1, gamma=1e-06, kernel=sigmoid ..............................\n",
      "[CV] .. C=0.1, gamma=1e-06, kernel=sigmoid, score=0.609, total=   0.0s\n",
      "[CV] C=1, gamma=1, kernel=rbf ........................................\n",
      "[CV] ............ C=1, gamma=1, kernel=rbf, score=0.615, total=   0.0s\n",
      "[CV] C=1, gamma=1, kernel=rbf ........................................\n",
      "[CV] ............ C=1, gamma=1, kernel=rbf, score=0.628, total=   0.0s\n",
      "[CV] C=1, gamma=1, kernel=rbf ........................................\n",
      "[CV] ............ C=1, gamma=1, kernel=rbf, score=0.633, total=   0.0s\n",
      "[CV] C=1, gamma=1, kernel=sigmoid ....................................\n",
      "[CV] ........ C=1, gamma=1, kernel=sigmoid, score=0.611, total=   0.0s\n",
      "[CV] C=1, gamma=1, kernel=sigmoid ....................................\n",
      "[CV] ........ C=1, gamma=1, kernel=sigmoid, score=0.609, total=   0.0s\n",
      "[CV] C=1, gamma=1, kernel=sigmoid ....................................\n",
      "[CV] ........ C=1, gamma=1, kernel=sigmoid, score=0.609, total=   0.0s\n",
      "[CV] C=1, gamma=0.1, kernel=rbf ......................................\n",
      "[CV] .......... C=1, gamma=0.1, kernel=rbf, score=0.697, total=   0.0s\n",
      "[CV] C=1, gamma=0.1, kernel=rbf ......................................\n",
      "[CV] .......... C=1, gamma=0.1, kernel=rbf, score=0.754, total=   0.0s\n",
      "[CV] C=1, gamma=0.1, kernel=rbf ......................................\n",
      "[CV] .......... C=1, gamma=0.1, kernel=rbf, score=0.725, total=   0.0s\n",
      "[CV] C=1, gamma=0.1, kernel=sigmoid ..................................\n",
      "[CV] ...... C=1, gamma=0.1, kernel=sigmoid, score=0.611, total=   0.0s\n",
      "[CV] C=1, gamma=0.1, kernel=sigmoid ..................................\n",
      "[CV] ...... C=1, gamma=0.1, kernel=sigmoid, score=0.609, total=   0.0s\n",
      "[CV] C=1, gamma=0.1, kernel=sigmoid ..................................\n",
      "[CV] ...... C=1, gamma=0.1, kernel=sigmoid, score=0.609, total=   0.0s\n",
      "[CV] C=1, gamma=0.01, kernel=rbf .....................................\n",
      "[CV] ......... C=1, gamma=0.01, kernel=rbf, score=0.692, total=   0.0s\n",
      "[CV] C=1, gamma=0.01, kernel=rbf .....................................\n",
      "[CV] ......... C=1, gamma=0.01, kernel=rbf, score=0.734, total=   0.0s\n",
      "[CV] C=1, gamma=0.01, kernel=rbf .....................................\n",
      "[CV] ......... C=1, gamma=0.01, kernel=rbf, score=0.725, total=   0.0s\n",
      "[CV] C=1, gamma=0.01, kernel=sigmoid .................................\n",
      "[CV] ..... C=1, gamma=0.01, kernel=sigmoid, score=0.591, total=   0.0s\n",
      "[CV] C=1, gamma=0.01, kernel=sigmoid .................................\n",
      "[CV] ..... C=1, gamma=0.01, kernel=sigmoid, score=0.652, total=   0.0s\n",
      "[CV] C=1, gamma=0.01, kernel=sigmoid .................................\n",
      "[CV] ..... C=1, gamma=0.01, kernel=sigmoid, score=0.609, total=   0.0s\n",
      "[CV] C=1, gamma=0.001, kernel=rbf ....................................\n",
      "[CV] ........ C=1, gamma=0.001, kernel=rbf, score=0.654, total=   0.0s\n",
      "[CV] C=1, gamma=0.001, kernel=rbf ....................................\n",
      "[CV] ........ C=1, gamma=0.001, kernel=rbf, score=0.657, total=   0.0s\n",
      "[CV] C=1, gamma=0.001, kernel=rbf ....................................\n",
      "[CV] ........ C=1, gamma=0.001, kernel=rbf, score=0.691, total=   0.0s\n",
      "[CV] C=1, gamma=0.001, kernel=sigmoid ................................\n",
      "[CV] .... C=1, gamma=0.001, kernel=sigmoid, score=0.601, total=   0.0s\n",
      "[CV] C=1, gamma=0.001, kernel=sigmoid ................................\n",
      "[CV] .... C=1, gamma=0.001, kernel=sigmoid, score=0.594, total=   0.0s\n",
      "[CV] C=1, gamma=0.001, kernel=sigmoid ................................\n",
      "[CV] .... C=1, gamma=0.001, kernel=sigmoid, score=0.614, total=   0.0s\n",
      "[CV] C=1, gamma=0.0001, kernel=rbf ...................................\n",
      "[CV] ....... C=1, gamma=0.0001, kernel=rbf, score=0.678, total=   0.0s\n",
      "[CV] C=1, gamma=0.0001, kernel=rbf ...................................\n",
      "[CV] ....... C=1, gamma=0.0001, kernel=rbf, score=0.647, total=   0.0s\n",
      "[CV] C=1, gamma=0.0001, kernel=rbf ...................................\n",
      "[CV] ....... C=1, gamma=0.0001, kernel=rbf, score=0.662, total=   0.0s\n",
      "[CV] C=1, gamma=0.0001, kernel=sigmoid ...............................\n",
      "[CV] ... C=1, gamma=0.0001, kernel=sigmoid, score=0.548, total=   0.0s\n",
      "[CV] C=1, gamma=0.0001, kernel=sigmoid ...............................\n",
      "[CV] ... C=1, gamma=0.0001, kernel=sigmoid, score=0.618, total=   0.0s\n",
      "[CV] C=1, gamma=0.0001, kernel=sigmoid ...............................\n"
     ]
    },
    {
     "name": "stdout",
     "output_type": "stream",
     "text": [
      "[CV] ... C=1, gamma=0.0001, kernel=sigmoid, score=0.628, total=   0.0s\n",
      "[CV] C=1, gamma=1e-05, kernel=rbf ....................................\n",
      "[CV] ........ C=1, gamma=1e-05, kernel=rbf, score=0.678, total=   0.0s\n",
      "[CV] C=1, gamma=1e-05, kernel=rbf ....................................\n",
      "[CV] ........ C=1, gamma=1e-05, kernel=rbf, score=0.652, total=   0.0s\n",
      "[CV] C=1, gamma=1e-05, kernel=rbf ....................................\n",
      "[CV] ........ C=1, gamma=1e-05, kernel=rbf, score=0.638, total=   0.0s\n",
      "[CV] C=1, gamma=1e-05, kernel=sigmoid ................................\n",
      "[CV] .... C=1, gamma=1e-05, kernel=sigmoid, score=0.649, total=   0.0s\n",
      "[CV] C=1, gamma=1e-05, kernel=sigmoid ................................\n",
      "[CV] .... C=1, gamma=1e-05, kernel=sigmoid, score=0.628, total=   0.0s\n",
      "[CV] C=1, gamma=1e-05, kernel=sigmoid ................................\n",
      "[CV] .... C=1, gamma=1e-05, kernel=sigmoid, score=0.623, total=   0.0s\n",
      "[CV] C=1, gamma=1e-06, kernel=rbf ....................................\n",
      "[CV] ........ C=1, gamma=1e-06, kernel=rbf, score=0.620, total=   0.0s\n",
      "[CV] C=1, gamma=1e-06, kernel=rbf ....................................\n",
      "[CV] ........ C=1, gamma=1e-06, kernel=rbf, score=0.623, total=   0.0s\n",
      "[CV] C=1, gamma=1e-06, kernel=rbf ....................................\n",
      "[CV] ........ C=1, gamma=1e-06, kernel=rbf, score=0.609, total=   0.0s\n",
      "[CV] C=1, gamma=1e-06, kernel=sigmoid ................................\n",
      "[CV] .... C=1, gamma=1e-06, kernel=sigmoid, score=0.615, total=   0.0s\n",
      "[CV] C=1, gamma=1e-06, kernel=sigmoid ................................\n",
      "[CV] .... C=1, gamma=1e-06, kernel=sigmoid, score=0.614, total=   0.0s\n",
      "[CV] C=1, gamma=1e-06, kernel=sigmoid ................................\n",
      "[CV] .... C=1, gamma=1e-06, kernel=sigmoid, score=0.614, total=   0.0s\n",
      "[CV] C=10, gamma=1, kernel=rbf .......................................\n",
      "[CV] ........... C=10, gamma=1, kernel=rbf, score=0.620, total=   0.0s\n",
      "[CV] C=10, gamma=1, kernel=rbf .......................................\n",
      "[CV] ........... C=10, gamma=1, kernel=rbf, score=0.628, total=   0.0s\n",
      "[CV] C=10, gamma=1, kernel=rbf .......................................\n",
      "[CV] ........... C=10, gamma=1, kernel=rbf, score=0.638, total=   0.0s\n",
      "[CV] C=10, gamma=1, kernel=sigmoid ...................................\n",
      "[CV] ....... C=10, gamma=1, kernel=sigmoid, score=0.611, total=   0.0s\n",
      "[CV] C=10, gamma=1, kernel=sigmoid ...................................\n",
      "[CV] ....... C=10, gamma=1, kernel=sigmoid, score=0.609, total=   0.0s\n",
      "[CV] C=10, gamma=1, kernel=sigmoid ...................................\n",
      "[CV] ....... C=10, gamma=1, kernel=sigmoid, score=0.609, total=   0.0s\n",
      "[CV] C=10, gamma=0.1, kernel=rbf .....................................\n",
      "[CV] ......... C=10, gamma=0.1, kernel=rbf, score=0.678, total=   0.0s\n",
      "[CV] C=10, gamma=0.1, kernel=rbf .....................................\n",
      "[CV] ......... C=10, gamma=0.1, kernel=rbf, score=0.705, total=   0.0s\n",
      "[CV] C=10, gamma=0.1, kernel=rbf .....................................\n",
      "[CV] ......... C=10, gamma=0.1, kernel=rbf, score=0.729, total=   0.0s\n",
      "[CV] C=10, gamma=0.1, kernel=sigmoid .................................\n",
      "[CV] ..... C=10, gamma=0.1, kernel=sigmoid, score=0.611, total=   0.0s\n",
      "[CV] C=10, gamma=0.1, kernel=sigmoid .................................\n",
      "[CV] ..... C=10, gamma=0.1, kernel=sigmoid, score=0.609, total=   0.0s\n",
      "[CV] C=10, gamma=0.1, kernel=sigmoid .................................\n",
      "[CV] ..... C=10, gamma=0.1, kernel=sigmoid, score=0.609, total=   0.0s\n",
      "[CV] C=10, gamma=0.01, kernel=rbf ....................................\n",
      "[CV] ........ C=10, gamma=0.01, kernel=rbf, score=0.798, total=   0.0s\n",
      "[CV] C=10, gamma=0.01, kernel=rbf ....................................\n",
      "[CV] ........ C=10, gamma=0.01, kernel=rbf, score=0.758, total=   0.0s\n",
      "[CV] C=10, gamma=0.01, kernel=rbf ....................................\n",
      "[CV] ........ C=10, gamma=0.01, kernel=rbf, score=0.783, total=   0.0s\n",
      "[CV] C=10, gamma=0.01, kernel=sigmoid ................................\n",
      "[CV] .... C=10, gamma=0.01, kernel=sigmoid, score=0.553, total=   0.0s\n",
      "[CV] C=10, gamma=0.01, kernel=sigmoid ................................\n",
      "[CV] .... C=10, gamma=0.01, kernel=sigmoid, score=0.522, total=   0.0s\n",
      "[CV] C=10, gamma=0.01, kernel=sigmoid ................................\n",
      "[CV] .... C=10, gamma=0.01, kernel=sigmoid, score=0.594, total=   0.0s\n",
      "[CV] C=10, gamma=0.001, kernel=rbf ...................................\n",
      "[CV] ....... C=10, gamma=0.001, kernel=rbf, score=0.750, total=   0.0s\n",
      "[CV] C=10, gamma=0.001, kernel=rbf ...................................\n",
      "[CV] ....... C=10, gamma=0.001, kernel=rbf, score=0.768, total=   0.0s\n",
      "[CV] C=10, gamma=0.001, kernel=rbf ...................................\n",
      "[CV] ....... C=10, gamma=0.001, kernel=rbf, score=0.807, total=   0.0s\n",
      "[CV] C=10, gamma=0.001, kernel=sigmoid ...............................\n",
      "[CV] ... C=10, gamma=0.001, kernel=sigmoid, score=0.591, total=   0.0s\n",
      "[CV] C=10, gamma=0.001, kernel=sigmoid ...............................\n",
      "[CV] ... C=10, gamma=0.001, kernel=sigmoid, score=0.594, total=   0.0s\n",
      "[CV] C=10, gamma=0.001, kernel=sigmoid ...............................\n",
      "[CV] ... C=10, gamma=0.001, kernel=sigmoid, score=0.628, total=   0.0s\n",
      "[CV] C=10, gamma=0.0001, kernel=rbf ..................................\n",
      "[CV] ...... C=10, gamma=0.0001, kernel=rbf, score=0.673, total=   0.0s\n",
      "[CV] C=10, gamma=0.0001, kernel=rbf ..................................\n",
      "[CV] ...... C=10, gamma=0.0001, kernel=rbf, score=0.667, total=   0.0s\n",
      "[CV] C=10, gamma=0.0001, kernel=rbf ..................................\n",
      "[CV] ...... C=10, gamma=0.0001, kernel=rbf, score=0.696, total=   0.0s\n",
      "[CV] C=10, gamma=0.0001, kernel=sigmoid ..............................\n",
      "[CV] .. C=10, gamma=0.0001, kernel=sigmoid, score=0.543, total=   0.0s\n",
      "[CV] C=10, gamma=0.0001, kernel=sigmoid ..............................\n",
      "[CV] .. C=10, gamma=0.0001, kernel=sigmoid, score=0.618, total=   0.0s\n",
      "[CV] C=10, gamma=0.0001, kernel=sigmoid ..............................\n",
      "[CV] .. C=10, gamma=0.0001, kernel=sigmoid, score=0.618, total=   0.0s\n",
      "[CV] C=10, gamma=1e-05, kernel=rbf ...................................\n",
      "[CV] ....... C=10, gamma=1e-05, kernel=rbf, score=0.697, total=   0.0s\n",
      "[CV] C=10, gamma=1e-05, kernel=rbf ...................................\n",
      "[CV] ....... C=10, gamma=1e-05, kernel=rbf, score=0.657, total=   0.0s\n",
      "[CV] C=10, gamma=1e-05, kernel=rbf ...................................\n",
      "[CV] ....... C=10, gamma=1e-05, kernel=rbf, score=0.647, total=   0.0s\n",
      "[CV] C=10, gamma=1e-05, kernel=sigmoid ...............................\n",
      "[CV] ... C=10, gamma=1e-05, kernel=sigmoid, score=0.654, total=   0.0s\n",
      "[CV] C=10, gamma=1e-05, kernel=sigmoid ...............................\n",
      "[CV] ... C=10, gamma=1e-05, kernel=sigmoid, score=0.633, total=   0.0s\n",
      "[CV] C=10, gamma=1e-05, kernel=sigmoid ...............................\n",
      "[CV] ... C=10, gamma=1e-05, kernel=sigmoid, score=0.671, total=   0.0s\n",
      "[CV] C=10, gamma=1e-06, kernel=rbf ...................................\n",
      "[CV] ....... C=10, gamma=1e-06, kernel=rbf, score=0.673, total=   0.0s\n",
      "[CV] C=10, gamma=1e-06, kernel=rbf ...................................\n",
      "[CV] ....... C=10, gamma=1e-06, kernel=rbf, score=0.647, total=   0.0s\n",
      "[CV] C=10, gamma=1e-06, kernel=rbf ...................................\n",
      "[CV] ....... C=10, gamma=1e-06, kernel=rbf, score=0.633, total=   0.0s\n",
      "[CV] C=10, gamma=1e-06, kernel=sigmoid ...............................\n",
      "[CV] ... C=10, gamma=1e-06, kernel=sigmoid, score=0.649, total=   0.0s\n",
      "[CV] C=10, gamma=1e-06, kernel=sigmoid ...............................\n",
      "[CV] ... C=10, gamma=1e-06, kernel=sigmoid, score=0.628, total=   0.0s\n",
      "[CV] C=10, gamma=1e-06, kernel=sigmoid ...............................\n",
      "[CV] ... C=10, gamma=1e-06, kernel=sigmoid, score=0.623, total=   0.0s\n",
      "[CV] C=100, gamma=1, kernel=rbf ......................................\n",
      "[CV] .......... C=100, gamma=1, kernel=rbf, score=0.615, total=   0.0s\n",
      "[CV] C=100, gamma=1, kernel=rbf ......................................\n",
      "[CV] .......... C=100, gamma=1, kernel=rbf, score=0.614, total=   0.0s\n",
      "[CV] C=100, gamma=1, kernel=rbf ......................................\n",
      "[CV] .......... C=100, gamma=1, kernel=rbf, score=0.633, total=   0.0s\n",
      "[CV] C=100, gamma=1, kernel=sigmoid ..................................\n",
      "[CV] ...... C=100, gamma=1, kernel=sigmoid, score=0.611, total=   0.0s\n",
      "[CV] C=100, gamma=1, kernel=sigmoid ..................................\n",
      "[CV] ...... C=100, gamma=1, kernel=sigmoid, score=0.609, total=   0.0s\n",
      "[CV] C=100, gamma=1, kernel=sigmoid ..................................\n",
      "[CV] ...... C=100, gamma=1, kernel=sigmoid, score=0.609, total=   0.0s\n",
      "[CV] C=100, gamma=0.1, kernel=rbf ....................................\n",
      "[CV] ........ C=100, gamma=0.1, kernel=rbf, score=0.683, total=   0.0s\n",
      "[CV] C=100, gamma=0.1, kernel=rbf ....................................\n",
      "[CV] ........ C=100, gamma=0.1, kernel=rbf, score=0.667, total=   0.0s\n",
      "[CV] C=100, gamma=0.1, kernel=rbf ....................................\n",
      "[CV] ........ C=100, gamma=0.1, kernel=rbf, score=0.705, total=   0.0s\n",
      "[CV] C=100, gamma=0.1, kernel=sigmoid ................................\n",
      "[CV] .... C=100, gamma=0.1, kernel=sigmoid, score=0.620, total=   0.0s\n",
      "[CV] C=100, gamma=0.1, kernel=sigmoid ................................\n",
      "[CV] .... C=100, gamma=0.1, kernel=sigmoid, score=0.638, total=   0.0s\n",
      "[CV] C=100, gamma=0.1, kernel=sigmoid ................................\n",
      "[CV] .... C=100, gamma=0.1, kernel=sigmoid, score=0.609, total=   0.0s\n",
      "[CV] C=100, gamma=0.01, kernel=rbf ...................................\n",
      "[CV] ....... C=100, gamma=0.01, kernel=rbf, score=0.784, total=   0.0s\n",
      "[CV] C=100, gamma=0.01, kernel=rbf ...................................\n",
      "[CV] ....... C=100, gamma=0.01, kernel=rbf, score=0.754, total=   0.0s\n",
      "[CV] C=100, gamma=0.01, kernel=rbf ...................................\n"
     ]
    },
    {
     "name": "stdout",
     "output_type": "stream",
     "text": [
      "[CV] ....... C=100, gamma=0.01, kernel=rbf, score=0.749, total=   0.0s\n",
      "[CV] C=100, gamma=0.01, kernel=sigmoid ...............................\n",
      "[CV] ... C=100, gamma=0.01, kernel=sigmoid, score=0.490, total=   0.0s\n",
      "[CV] C=100, gamma=0.01, kernel=sigmoid ...............................\n",
      "[CV] ... C=100, gamma=0.01, kernel=sigmoid, score=0.464, total=   0.0s\n",
      "[CV] C=100, gamma=0.01, kernel=sigmoid ...............................\n",
      "[CV] ... C=100, gamma=0.01, kernel=sigmoid, score=0.469, total=   0.0s\n",
      "[CV] C=100, gamma=0.001, kernel=rbf ..................................\n",
      "[CV] ...... C=100, gamma=0.001, kernel=rbf, score=0.803, total=   0.0s\n",
      "[CV] C=100, gamma=0.001, kernel=rbf ..................................\n",
      "[CV] ...... C=100, gamma=0.001, kernel=rbf, score=0.773, total=   0.0s\n",
      "[CV] C=100, gamma=0.001, kernel=rbf ..................................\n",
      "[CV] ...... C=100, gamma=0.001, kernel=rbf, score=0.821, total=   0.0s\n",
      "[CV] C=100, gamma=0.001, kernel=sigmoid ..............................\n",
      "[CV] .. C=100, gamma=0.001, kernel=sigmoid, score=0.596, total=   0.0s\n",
      "[CV] C=100, gamma=0.001, kernel=sigmoid ..............................\n",
      "[CV] .. C=100, gamma=0.001, kernel=sigmoid, score=0.594, total=   0.0s\n",
      "[CV] C=100, gamma=0.001, kernel=sigmoid ..............................\n",
      "[CV] .. C=100, gamma=0.001, kernel=sigmoid, score=0.628, total=   0.0s\n",
      "[CV] C=100, gamma=0.0001, kernel=rbf .................................\n",
      "[CV] ..... C=100, gamma=0.0001, kernel=rbf, score=0.841, total=   0.0s\n",
      "[CV] C=100, gamma=0.0001, kernel=rbf .................................\n",
      "[CV] ..... C=100, gamma=0.0001, kernel=rbf, score=0.729, total=   0.0s\n",
      "[CV] C=100, gamma=0.0001, kernel=rbf .................................\n",
      "[CV] ..... C=100, gamma=0.0001, kernel=rbf, score=0.821, total=   0.0s\n",
      "[CV] C=100, gamma=0.0001, kernel=sigmoid .............................\n",
      "[CV] . C=100, gamma=0.0001, kernel=sigmoid, score=0.524, total=   0.0s\n",
      "[CV] C=100, gamma=0.0001, kernel=sigmoid .............................\n",
      "[CV] . C=100, gamma=0.0001, kernel=sigmoid, score=0.618, total=   0.0s\n",
      "[CV] C=100, gamma=0.0001, kernel=sigmoid .............................\n",
      "[CV] . C=100, gamma=0.0001, kernel=sigmoid, score=0.614, total=   0.0s\n",
      "[CV] C=100, gamma=1e-05, kernel=rbf ..................................\n",
      "[CV] ...... C=100, gamma=1e-05, kernel=rbf, score=0.683, total=   0.0s\n",
      "[CV] C=100, gamma=1e-05, kernel=rbf ..................................\n",
      "[CV] ...... C=100, gamma=1e-05, kernel=rbf, score=0.662, total=   0.0s\n",
      "[CV] C=100, gamma=1e-05, kernel=rbf ..................................\n",
      "[CV] ...... C=100, gamma=1e-05, kernel=rbf, score=0.705, total=   0.0s\n",
      "[CV] C=100, gamma=1e-05, kernel=sigmoid ..............................\n",
      "[CV] .. C=100, gamma=1e-05, kernel=sigmoid, score=0.591, total=   0.0s\n",
      "[CV] C=100, gamma=1e-05, kernel=sigmoid ..............................\n",
      "[CV] .. C=100, gamma=1e-05, kernel=sigmoid, score=0.671, total=   0.0s\n",
      "[CV] C=100, gamma=1e-05, kernel=sigmoid ..............................\n",
      "[CV] .. C=100, gamma=1e-05, kernel=sigmoid, score=0.657, total=   0.0s\n",
      "[CV] C=100, gamma=1e-06, kernel=rbf ..................................\n",
      "[CV] ...... C=100, gamma=1e-06, kernel=rbf, score=0.673, total=   0.0s\n",
      "[CV] C=100, gamma=1e-06, kernel=rbf ..................................\n",
      "[CV] ...... C=100, gamma=1e-06, kernel=rbf, score=0.647, total=   0.0s\n",
      "[CV] C=100, gamma=1e-06, kernel=rbf ..................................\n",
      "[CV] ...... C=100, gamma=1e-06, kernel=rbf, score=0.662, total=   0.0s\n",
      "[CV] C=100, gamma=1e-06, kernel=sigmoid ..............................\n",
      "[CV] .. C=100, gamma=1e-06, kernel=sigmoid, score=0.673, total=   0.0s\n",
      "[CV] C=100, gamma=1e-06, kernel=sigmoid ..............................\n",
      "[CV] .. C=100, gamma=1e-06, kernel=sigmoid, score=0.647, total=   0.0s\n",
      "[CV] C=100, gamma=1e-06, kernel=sigmoid ..............................\n",
      "[CV] .. C=100, gamma=1e-06, kernel=sigmoid, score=0.662, total=   0.0s\n",
      "[CV] C=1000, gamma=1, kernel=rbf .....................................\n",
      "[CV] ......... C=1000, gamma=1, kernel=rbf, score=0.615, total=   0.0s\n",
      "[CV] C=1000, gamma=1, kernel=rbf .....................................\n",
      "[CV] ......... C=1000, gamma=1, kernel=rbf, score=0.614, total=   0.0s\n",
      "[CV] C=1000, gamma=1, kernel=rbf .....................................\n",
      "[CV] ......... C=1000, gamma=1, kernel=rbf, score=0.614, total=   0.0s\n",
      "[CV] C=1000, gamma=1, kernel=sigmoid .................................\n",
      "[CV] ..... C=1000, gamma=1, kernel=sigmoid, score=0.611, total=   0.0s\n",
      "[CV] C=1000, gamma=1, kernel=sigmoid .................................\n",
      "[CV] ..... C=1000, gamma=1, kernel=sigmoid, score=0.609, total=   0.0s\n",
      "[CV] C=1000, gamma=1, kernel=sigmoid .................................\n",
      "[CV] ..... C=1000, gamma=1, kernel=sigmoid, score=0.609, total=   0.0s\n",
      "[CV] C=1000, gamma=0.1, kernel=rbf ...................................\n",
      "[CV] ....... C=1000, gamma=0.1, kernel=rbf, score=0.659, total=   0.0s\n",
      "[CV] C=1000, gamma=0.1, kernel=rbf ...................................\n",
      "[CV] ....... C=1000, gamma=0.1, kernel=rbf, score=0.662, total=   0.0s\n",
      "[CV] C=1000, gamma=0.1, kernel=rbf ...................................\n",
      "[CV] ....... C=1000, gamma=0.1, kernel=rbf, score=0.667, total=   0.0s\n",
      "[CV] C=1000, gamma=0.1, kernel=sigmoid ...............................\n",
      "[CV] ... C=1000, gamma=0.1, kernel=sigmoid, score=0.606, total=   0.0s\n",
      "[CV] C=1000, gamma=0.1, kernel=sigmoid ...............................\n",
      "[CV] ... C=1000, gamma=0.1, kernel=sigmoid, score=0.628, total=   0.0s\n",
      "[CV] C=1000, gamma=0.1, kernel=sigmoid ...............................\n",
      "[CV] ... C=1000, gamma=0.1, kernel=sigmoid, score=0.609, total=   0.0s\n",
      "[CV] C=1000, gamma=0.01, kernel=rbf ..................................\n",
      "[CV] ...... C=1000, gamma=0.01, kernel=rbf, score=0.745, total=   0.0s\n",
      "[CV] C=1000, gamma=0.01, kernel=rbf ..................................\n",
      "[CV] ...... C=1000, gamma=0.01, kernel=rbf, score=0.700, total=   0.1s\n",
      "[CV] C=1000, gamma=0.01, kernel=rbf ..................................\n",
      "[CV] ...... C=1000, gamma=0.01, kernel=rbf, score=0.725, total=   0.0s\n",
      "[CV] C=1000, gamma=0.01, kernel=sigmoid ..............................\n",
      "[CV] .. C=1000, gamma=0.01, kernel=sigmoid, score=0.476, total=   0.0s\n",
      "[CV] C=1000, gamma=0.01, kernel=sigmoid ..............................\n",
      "[CV] .. C=1000, gamma=0.01, kernel=sigmoid, score=0.454, total=   0.0s\n",
      "[CV] C=1000, gamma=0.01, kernel=sigmoid ..............................\n",
      "[CV] .. C=1000, gamma=0.01, kernel=sigmoid, score=0.449, total=   0.0s\n",
      "[CV] C=1000, gamma=0.001, kernel=rbf .................................\n",
      "[CV] ..... C=1000, gamma=0.001, kernel=rbf, score=0.788, total=   0.1s\n",
      "[CV] C=1000, gamma=0.001, kernel=rbf .................................\n",
      "[CV] ..... C=1000, gamma=0.001, kernel=rbf, score=0.763, total=   0.0s\n",
      "[CV] C=1000, gamma=0.001, kernel=rbf .................................\n",
      "[CV] ..... C=1000, gamma=0.001, kernel=rbf, score=0.797, total=   0.0s\n",
      "[CV] C=1000, gamma=0.001, kernel=sigmoid .............................\n",
      "[CV] . C=1000, gamma=0.001, kernel=sigmoid, score=0.596, total=   0.0s\n",
      "[CV] C=1000, gamma=0.001, kernel=sigmoid .............................\n",
      "[CV] . C=1000, gamma=0.001, kernel=sigmoid, score=0.599, total=   0.0s\n",
      "[CV] C=1000, gamma=0.001, kernel=sigmoid .............................\n",
      "[CV] . C=1000, gamma=0.001, kernel=sigmoid, score=0.628, total=   0.0s\n",
      "[CV] C=1000, gamma=0.0001, kernel=rbf ................................\n",
      "[CV] .... C=1000, gamma=0.0001, kernel=rbf, score=0.841, total=   0.0s\n",
      "[CV] C=1000, gamma=0.0001, kernel=rbf ................................\n",
      "[CV] .... C=1000, gamma=0.0001, kernel=rbf, score=0.768, total=   0.0s\n",
      "[CV] C=1000, gamma=0.0001, kernel=rbf ................................\n",
      "[CV] .... C=1000, gamma=0.0001, kernel=rbf, score=0.845, total=   0.0s\n",
      "[CV] C=1000, gamma=0.0001, kernel=sigmoid ............................\n",
      "[CV]  C=1000, gamma=0.0001, kernel=sigmoid, score=0.524, total=   0.0s\n",
      "[CV] C=1000, gamma=0.0001, kernel=sigmoid ............................\n",
      "[CV]  C=1000, gamma=0.0001, kernel=sigmoid, score=0.618, total=   0.0s\n",
      "[CV] C=1000, gamma=0.0001, kernel=sigmoid ............................\n",
      "[CV]  C=1000, gamma=0.0001, kernel=sigmoid, score=0.614, total=   0.0s\n",
      "[CV] C=1000, gamma=1e-05, kernel=rbf .................................\n",
      "[CV] ..... C=1000, gamma=1e-05, kernel=rbf, score=0.841, total=   0.0s\n",
      "[CV] C=1000, gamma=1e-05, kernel=rbf .................................\n",
      "[CV] ..... C=1000, gamma=1e-05, kernel=rbf, score=0.749, total=   0.0s\n",
      "[CV] C=1000, gamma=1e-05, kernel=rbf .................................\n",
      "[CV] ..... C=1000, gamma=1e-05, kernel=rbf, score=0.836, total=   0.0s\n",
      "[CV] C=1000, gamma=1e-05, kernel=sigmoid .............................\n",
      "[CV] . C=1000, gamma=1e-05, kernel=sigmoid, score=0.562, total=   0.0s\n",
      "[CV] C=1000, gamma=1e-05, kernel=sigmoid .............................\n",
      "[CV] . C=1000, gamma=1e-05, kernel=sigmoid, score=0.744, total=   0.0s\n",
      "[CV] C=1000, gamma=1e-05, kernel=sigmoid .............................\n",
      "[CV] . C=1000, gamma=1e-05, kernel=sigmoid, score=0.807, total=   0.0s\n",
      "[CV] C=1000, gamma=1e-06, kernel=rbf .................................\n",
      "[CV] ..... C=1000, gamma=1e-06, kernel=rbf, score=0.731, total=   0.0s\n",
      "[CV] C=1000, gamma=1e-06, kernel=rbf .................................\n",
      "[CV] ..... C=1000, gamma=1e-06, kernel=rbf, score=0.662, total=   0.0s\n",
      "[CV] C=1000, gamma=1e-06, kernel=rbf .................................\n",
      "[CV] ..... C=1000, gamma=1e-06, kernel=rbf, score=0.671, total=   0.0s\n",
      "[CV] C=1000, gamma=1e-06, kernel=sigmoid .............................\n",
      "[CV] . C=1000, gamma=1e-06, kernel=sigmoid, score=0.688, total=   0.0s\n",
      "[CV] C=1000, gamma=1e-06, kernel=sigmoid .............................\n",
      "[CV] . C=1000, gamma=1e-06, kernel=sigmoid, score=0.667, total=   0.0s\n",
      "[CV] C=1000, gamma=1e-06, kernel=sigmoid .............................\n",
      "[CV] . C=1000, gamma=1e-06, kernel=sigmoid, score=0.667, total=   0.0s\n",
      "[CV] C=10000, gamma=1, kernel=rbf ....................................\n",
      "[CV] ........ C=10000, gamma=1, kernel=rbf, score=0.611, total=   0.0s\n",
      "[CV] C=10000, gamma=1, kernel=rbf ....................................\n"
     ]
    },
    {
     "name": "stdout",
     "output_type": "stream",
     "text": [
      "[CV] ........ C=10000, gamma=1, kernel=rbf, score=0.614, total=   0.0s\n",
      "[CV] C=10000, gamma=1, kernel=rbf ....................................\n",
      "[CV] ........ C=10000, gamma=1, kernel=rbf, score=0.643, total=   0.0s\n",
      "[CV] C=10000, gamma=1, kernel=sigmoid ................................\n",
      "[CV] .... C=10000, gamma=1, kernel=sigmoid, score=0.611, total=   0.0s\n",
      "[CV] C=10000, gamma=1, kernel=sigmoid ................................\n",
      "[CV] .... C=10000, gamma=1, kernel=sigmoid, score=0.609, total=   0.0s\n",
      "[CV] C=10000, gamma=1, kernel=sigmoid ................................\n",
      "[CV] .... C=10000, gamma=1, kernel=sigmoid, score=0.609, total=   0.0s\n",
      "[CV] C=10000, gamma=0.1, kernel=rbf ..................................\n",
      "[CV] ...... C=10000, gamma=0.1, kernel=rbf, score=0.654, total=   0.0s\n",
      "[CV] C=10000, gamma=0.1, kernel=rbf ..................................\n",
      "[CV] ...... C=10000, gamma=0.1, kernel=rbf, score=0.652, total=   0.0s\n",
      "[CV] C=10000, gamma=0.1, kernel=rbf ..................................\n",
      "[CV] ...... C=10000, gamma=0.1, kernel=rbf, score=0.667, total=   0.0s\n",
      "[CV] C=10000, gamma=0.1, kernel=sigmoid ..............................\n",
      "[CV] .. C=10000, gamma=0.1, kernel=sigmoid, score=0.587, total=   0.0s\n",
      "[CV] C=10000, gamma=0.1, kernel=sigmoid ..............................\n",
      "[CV] .. C=10000, gamma=0.1, kernel=sigmoid, score=0.623, total=   0.0s\n",
      "[CV] C=10000, gamma=0.1, kernel=sigmoid ..............................\n",
      "[CV] .. C=10000, gamma=0.1, kernel=sigmoid, score=0.609, total=   0.0s\n",
      "[CV] C=10000, gamma=0.01, kernel=rbf .................................\n",
      "[CV] ..... C=10000, gamma=0.01, kernel=rbf, score=0.716, total=   0.2s\n",
      "[CV] C=10000, gamma=0.01, kernel=rbf .................................\n",
      "[CV] ..... C=10000, gamma=0.01, kernel=rbf, score=0.671, total=   0.1s\n",
      "[CV] C=10000, gamma=0.01, kernel=rbf .................................\n",
      "[CV] ..... C=10000, gamma=0.01, kernel=rbf, score=0.734, total=   0.1s\n",
      "[CV] C=10000, gamma=0.01, kernel=sigmoid .............................\n",
      "[CV] . C=10000, gamma=0.01, kernel=sigmoid, score=0.476, total=   0.0s\n",
      "[CV] C=10000, gamma=0.01, kernel=sigmoid .............................\n",
      "[CV] . C=10000, gamma=0.01, kernel=sigmoid, score=0.454, total=   0.0s\n",
      "[CV] C=10000, gamma=0.01, kernel=sigmoid .............................\n",
      "[CV] . C=10000, gamma=0.01, kernel=sigmoid, score=0.444, total=   0.0s\n",
      "[CV] C=10000, gamma=0.001, kernel=rbf ................................\n",
      "[CV] .... C=10000, gamma=0.001, kernel=rbf, score=0.798, total=   0.3s\n",
      "[CV] C=10000, gamma=0.001, kernel=rbf ................................\n",
      "[CV] .... C=10000, gamma=0.001, kernel=rbf, score=0.729, total=   0.3s\n",
      "[CV] C=10000, gamma=0.001, kernel=rbf ................................\n",
      "[CV] .... C=10000, gamma=0.001, kernel=rbf, score=0.763, total=   0.2s\n",
      "[CV] C=10000, gamma=0.001, kernel=sigmoid ............................\n",
      "[CV]  C=10000, gamma=0.001, kernel=sigmoid, score=0.596, total=   0.0s\n",
      "[CV] C=10000, gamma=0.001, kernel=sigmoid ............................\n",
      "[CV]  C=10000, gamma=0.001, kernel=sigmoid, score=0.599, total=   0.0s\n",
      "[CV] C=10000, gamma=0.001, kernel=sigmoid ............................\n",
      "[CV]  C=10000, gamma=0.001, kernel=sigmoid, score=0.628, total=   0.0s\n",
      "[CV] C=10000, gamma=0.0001, kernel=rbf ...............................\n",
      "[CV] ... C=10000, gamma=0.0001, kernel=rbf, score=0.846, total=   0.1s\n",
      "[CV] C=10000, gamma=0.0001, kernel=rbf ...............................\n",
      "[CV] ... C=10000, gamma=0.0001, kernel=rbf, score=0.763, total=   0.1s\n",
      "[CV] C=10000, gamma=0.0001, kernel=rbf ...............................\n",
      "[CV] ... C=10000, gamma=0.0001, kernel=rbf, score=0.850, total=   0.2s\n",
      "[CV] C=10000, gamma=0.0001, kernel=sigmoid ...........................\n",
      "[CV]  C=10000, gamma=0.0001, kernel=sigmoid, score=0.524, total=   0.0s\n",
      "[CV] C=10000, gamma=0.0001, kernel=sigmoid ...........................\n",
      "[CV]  C=10000, gamma=0.0001, kernel=sigmoid, score=0.618, total=   0.0s\n",
      "[CV] C=10000, gamma=0.0001, kernel=sigmoid ...........................\n",
      "[CV]  C=10000, gamma=0.0001, kernel=sigmoid, score=0.618, total=   0.0s\n",
      "[CV] C=10000, gamma=1e-05, kernel=rbf ................................\n",
      "[CV] .... C=10000, gamma=1e-05, kernel=rbf, score=0.851, total=   0.0s\n",
      "[CV] C=10000, gamma=1e-05, kernel=rbf ................................\n",
      "[CV] .... C=10000, gamma=1e-05, kernel=rbf, score=0.787, total=   0.0s\n",
      "[CV] C=10000, gamma=1e-05, kernel=rbf ................................\n",
      "[CV] .... C=10000, gamma=1e-05, kernel=rbf, score=0.850, total=   0.0s\n",
      "[CV] C=10000, gamma=1e-05, kernel=sigmoid ............................\n",
      "[CV]  C=10000, gamma=1e-05, kernel=sigmoid, score=0.726, total=   0.0s\n",
      "[CV] C=10000, gamma=1e-05, kernel=sigmoid ............................\n",
      "[CV]  C=10000, gamma=1e-05, kernel=sigmoid, score=0.691, total=   0.0s\n",
      "[CV] C=10000, gamma=1e-05, kernel=sigmoid ............................\n",
      "[CV]  C=10000, gamma=1e-05, kernel=sigmoid, score=0.667, total=   0.0s\n",
      "[CV] C=10000, gamma=1e-06, kernel=rbf ................................\n",
      "[CV] .... C=10000, gamma=1e-06, kernel=rbf, score=0.851, total=   0.0s\n",
      "[CV] C=10000, gamma=1e-06, kernel=rbf ................................\n",
      "[CV] .... C=10000, gamma=1e-06, kernel=rbf, score=0.749, total=   0.0s\n",
      "[CV] C=10000, gamma=1e-06, kernel=rbf ................................\n",
      "[CV] .... C=10000, gamma=1e-06, kernel=rbf, score=0.841, total=   0.0s\n",
      "[CV] C=10000, gamma=1e-06, kernel=sigmoid ............................\n",
      "[CV]  C=10000, gamma=1e-06, kernel=sigmoid, score=0.851, total=   0.0s\n",
      "[CV] C=10000, gamma=1e-06, kernel=sigmoid ............................\n",
      "[CV]  C=10000, gamma=1e-06, kernel=sigmoid, score=0.734, total=   0.0s\n",
      "[CV] C=10000, gamma=1e-06, kernel=sigmoid ............................\n",
      "[CV]  C=10000, gamma=1e-06, kernel=sigmoid, score=0.812, total=   0.0s\n"
     ]
    },
    {
     "name": "stderr",
     "output_type": "stream",
     "text": [
      "[Parallel(n_jobs=1)]: Done 252 out of 252 | elapsed:    4.0s finished\n",
      "C:\\Users\\samdo\\Anaconda3\\lib\\site-packages\\sklearn\\model_selection\\_search.py:814: DeprecationWarning: The default of the `iid` parameter will change from True to False in version 0.22 and will be removed in 0.24. This will change numeric results when test-set sizes are unequal.\n",
      "  DeprecationWarning)\n"
     ]
    },
    {
     "data": {
      "text/plain": [
       "GridSearchCV(cv='warn', error_score='raise-deprecating',\n",
       "             estimator=SVC(C=1.0, cache_size=200, class_weight=None, coef0=0.0,\n",
       "                           decision_function_shape='ovr', degree=3,\n",
       "                           gamma='auto_deprecated', kernel='rbf', max_iter=-1,\n",
       "                           probability=False, random_state=2, shrinking=True,\n",
       "                           tol=0.001, verbose=False),\n",
       "             iid='warn', n_jobs=None,\n",
       "             param_grid={'C': [0.1, 1, 10, 100, 1000, 10000],\n",
       "                         'gamma': [1, 0.1, 0.01, 0.001, 0.0001, 1e-05, 1e-06],\n",
       "                         'kernel': ['rbf', 'sigmoid']},\n",
       "             pre_dispatch='2*n_jobs', refit=True, return_train_score=False,\n",
       "             scoring=None, verbose=3)"
      ]
     },
     "execution_count": 67,
     "metadata": {},
     "output_type": "execute_result"
    }
   ],
   "source": [
    "# Set the parameter girds and search for the SVC model\n",
    "svc_param_grid = {'C':[0.1, 1, 10, 100, 1000, 10000], 'gamma':[1, 0.1, 0.01, 0.001, 0.0001, 0.00001, 0.000001], 'kernel':['rbf', 'sigmoid']}\n",
    "svc_grid = GridSearchCV(SVC(random_state=rs), param_grid=svc_param_grid, verbose=3)\n",
    "svc_grid.fit(X_train, y_train)"
   ]
  },
  {
   "cell_type": "code",
   "execution_count": 68,
   "metadata": {},
   "outputs": [
    {
     "name": "stdout",
     "output_type": "stream",
     "text": [
      "Best parameters: {'C': 10000, 'gamma': 1e-05, 'kernel': 'rbf'}\n",
      "Best Score: 0.8295819935691319\n"
     ]
    }
   ],
   "source": [
    "print(f'Best parameters: {svc_grid.best_params_}')\n",
    "print(f'Best Score: {svc_grid.best_score_}')"
   ]
  },
  {
   "cell_type": "code",
   "execution_count": 69,
   "metadata": {},
   "outputs": [],
   "source": [
    "from sklearn.metrics import classification_report, confusion_matrix"
   ]
  },
  {
   "cell_type": "code",
   "execution_count": 70,
   "metadata": {},
   "outputs": [
    {
     "name": "stdout",
     "output_type": "stream",
     "text": [
      "              precision    recall  f1-score   support\n",
      "\n",
      "           0       0.83      0.89      0.86       170\n",
      "           1       0.78      0.67      0.72        97\n",
      "\n",
      "    accuracy                           0.81       267\n",
      "   macro avg       0.80      0.78      0.79       267\n",
      "weighted avg       0.81      0.81      0.81       267\n",
      "\n",
      "[[152  18]\n",
      " [ 32  65]]\n"
     ]
    }
   ],
   "source": [
    "svc_grid_preds = svc_grid.predict(X_test)\n",
    "print(classification_report(y_test, svc_grid_preds))\n",
    "print(confusion_matrix(y_test, svc_grid_preds))"
   ]
  },
  {
   "cell_type": "code",
   "execution_count": 71,
   "metadata": {},
   "outputs": [
    {
     "data": {
      "text/plain": [
       "Index(['LogReg', 'SVC', 'Lin_SVC', 'RFC', 'AdaBC w/ RFC', 'AdaBC w/ DTC'], dtype='object')"
      ]
     },
     "execution_count": 71,
     "metadata": {},
     "output_type": "execute_result"
    }
   ],
   "source": [
    "cv_result.index"
   ]
  },
  {
   "cell_type": "markdown",
   "metadata": {},
   "source": [
    "### LOGISTIC REGRESSION"
   ]
  },
  {
   "cell_type": "code",
   "execution_count": 72,
   "metadata": {
    "collapsed": true
   },
   "outputs": [
    {
     "name": "stderr",
     "output_type": "stream",
     "text": [
      "C:\\Users\\samdo\\Anaconda3\\lib\\site-packages\\sklearn\\model_selection\\_split.py:1978: FutureWarning: The default value of cv will change from 3 to 5 in version 0.22. Specify it explicitly to silence this warning.\n",
      "  warnings.warn(CV_WARNING, FutureWarning)\n",
      "[Parallel(n_jobs=1)]: Using backend SequentialBackend with 1 concurrent workers.\n",
      "[Parallel(n_jobs=1)]: Done   1 out of   1 | elapsed:    0.0s remaining:    0.0s\n",
      "[Parallel(n_jobs=1)]: Done   2 out of   2 | elapsed:    0.0s remaining:    0.0s\n",
      "C:\\Users\\samdo\\Anaconda3\\lib\\site-packages\\sklearn\\linear_model\\sag.py:337: ConvergenceWarning: The max_iter was reached which means the coef_ did not converge\n",
      "  \"the coef_ did not converge\", ConvergenceWarning)\n",
      "C:\\Users\\samdo\\Anaconda3\\lib\\site-packages\\sklearn\\linear_model\\sag.py:337: ConvergenceWarning: The max_iter was reached which means the coef_ did not converge\n",
      "  \"the coef_ did not converge\", ConvergenceWarning)\n",
      "C:\\Users\\samdo\\Anaconda3\\lib\\site-packages\\sklearn\\linear_model\\sag.py:337: ConvergenceWarning: The max_iter was reached which means the coef_ did not converge\n",
      "  \"the coef_ did not converge\", ConvergenceWarning)\n",
      "C:\\Users\\samdo\\Anaconda3\\lib\\site-packages\\sklearn\\linear_model\\sag.py:337: ConvergenceWarning: The max_iter was reached which means the coef_ did not converge\n",
      "  \"the coef_ did not converge\", ConvergenceWarning)\n",
      "C:\\Users\\samdo\\Anaconda3\\lib\\site-packages\\sklearn\\linear_model\\sag.py:337: ConvergenceWarning: The max_iter was reached which means the coef_ did not converge\n",
      "  \"the coef_ did not converge\", ConvergenceWarning)\n",
      "C:\\Users\\samdo\\Anaconda3\\lib\\site-packages\\sklearn\\linear_model\\sag.py:337: ConvergenceWarning: The max_iter was reached which means the coef_ did not converge\n",
      "  \"the coef_ did not converge\", ConvergenceWarning)\n",
      "C:\\Users\\samdo\\Anaconda3\\lib\\site-packages\\sklearn\\linear_model\\sag.py:337: ConvergenceWarning: The max_iter was reached which means the coef_ did not converge\n",
      "  \"the coef_ did not converge\", ConvergenceWarning)\n",
      "C:\\Users\\samdo\\Anaconda3\\lib\\site-packages\\sklearn\\linear_model\\sag.py:337: ConvergenceWarning: The max_iter was reached which means the coef_ did not converge\n",
      "  \"the coef_ did not converge\", ConvergenceWarning)\n",
      "C:\\Users\\samdo\\Anaconda3\\lib\\site-packages\\sklearn\\linear_model\\sag.py:337: ConvergenceWarning: The max_iter was reached which means the coef_ did not converge\n",
      "  \"the coef_ did not converge\", ConvergenceWarning)\n",
      "C:\\Users\\samdo\\Anaconda3\\lib\\site-packages\\sklearn\\linear_model\\sag.py:337: ConvergenceWarning: The max_iter was reached which means the coef_ did not converge\n",
      "  \"the coef_ did not converge\", ConvergenceWarning)\n",
      "C:\\Users\\samdo\\Anaconda3\\lib\\site-packages\\sklearn\\linear_model\\sag.py:337: ConvergenceWarning: The max_iter was reached which means the coef_ did not converge\n",
      "  \"the coef_ did not converge\", ConvergenceWarning)\n",
      "C:\\Users\\samdo\\Anaconda3\\lib\\site-packages\\sklearn\\linear_model\\sag.py:337: ConvergenceWarning: The max_iter was reached which means the coef_ did not converge\n",
      "  \"the coef_ did not converge\", ConvergenceWarning)\n"
     ]
    },
    {
     "name": "stdout",
     "output_type": "stream",
     "text": [
      "Fitting 3 folds for each of 24 candidates, totalling 72 fits\n",
      "[CV] C=0.1, penalty=l1, solver=liblinear .............................\n",
      "[CV] . C=0.1, penalty=l1, solver=liblinear, score=0.798, total=   0.0s\n",
      "[CV] C=0.1, penalty=l1, solver=liblinear .............................\n",
      "[CV] . C=0.1, penalty=l1, solver=liblinear, score=0.729, total=   0.0s\n",
      "[CV] C=0.1, penalty=l1, solver=liblinear .............................\n",
      "[CV] . C=0.1, penalty=l1, solver=liblinear, score=0.816, total=   0.0s\n",
      "[CV] C=0.1, penalty=l1, solver=saga ..................................\n",
      "[CV] ...... C=0.1, penalty=l1, solver=saga, score=0.673, total=   0.0s\n",
      "[CV] C=0.1, penalty=l1, solver=saga ..................................\n",
      "[CV] ...... C=0.1, penalty=l1, solver=saga, score=0.681, total=   0.0s\n",
      "[CV] C=0.1, penalty=l1, solver=saga ..................................\n",
      "[CV] ...... C=0.1, penalty=l1, solver=saga, score=0.662, total=   0.0s\n",
      "[CV] C=0.1, penalty=l2, solver=liblinear .............................\n",
      "[CV] . C=0.1, penalty=l2, solver=liblinear, score=0.861, total=   0.0s\n",
      "[CV] C=0.1, penalty=l2, solver=liblinear .............................\n",
      "[CV] . C=0.1, penalty=l2, solver=liblinear, score=0.749, total=   0.0s\n",
      "[CV] C=0.1, penalty=l2, solver=liblinear .............................\n",
      "[CV] . C=0.1, penalty=l2, solver=liblinear, score=0.841, total=   0.0s\n",
      "[CV] C=0.1, penalty=l2, solver=saga ..................................\n",
      "[CV] ...... C=0.1, penalty=l2, solver=saga, score=0.668, total=   0.0s\n",
      "[CV] C=0.1, penalty=l2, solver=saga ..................................\n",
      "[CV] ...... C=0.1, penalty=l2, solver=saga, score=0.681, total=   0.0s\n",
      "[CV] C=0.1, penalty=l2, solver=saga ..................................\n",
      "[CV] ...... C=0.1, penalty=l2, solver=saga, score=0.657, total=   0.0s\n",
      "[CV] C=1, penalty=l1, solver=liblinear ...............................\n",
      "[CV] ... C=1, penalty=l1, solver=liblinear, score=0.861, total=   0.0s\n",
      "[CV] C=1, penalty=l1, solver=liblinear ...............................\n",
      "[CV] ... C=1, penalty=l1, solver=liblinear, score=0.758, total=   0.0s\n",
      "[CV] C=1, penalty=l1, solver=liblinear ...............................\n",
      "[CV] ... C=1, penalty=l1, solver=liblinear, score=0.845, total=   0.0s\n",
      "[CV] C=1, penalty=l1, solver=saga ....................................\n",
      "[CV] ........ C=1, penalty=l1, solver=saga, score=0.673, total=   0.0s\n",
      "[CV] C=1, penalty=l1, solver=saga ....................................\n",
      "[CV] ........ C=1, penalty=l1, solver=saga, score=0.681, total=   0.0s\n",
      "[CV] C=1, penalty=l1, solver=saga ....................................\n",
      "[CV] ........ C=1, penalty=l1, solver=saga, score=0.662, total=   0.0s\n",
      "[CV] C=1, penalty=l2, solver=liblinear ...............................\n",
      "[CV] ... C=1, penalty=l2, solver=liblinear, score=0.870, total=   0.0s\n",
      "[CV] C=1, penalty=l2, solver=liblinear ...............................\n",
      "[CV] ... C=1, penalty=l2, solver=liblinear, score=0.754, total=   0.0s\n",
      "[CV] C=1, penalty=l2, solver=liblinear ...............................\n",
      "[CV] ... C=1, penalty=l2, solver=liblinear, score=0.845, total=   0.0s\n",
      "[CV] C=1, penalty=l2, solver=saga ....................................\n",
      "[CV] ........ C=1, penalty=l2, solver=saga, score=0.668, total=   0.0s\n",
      "[CV] C=1, penalty=l2, solver=saga ....................................\n",
      "[CV] ........ C=1, penalty=l2, solver=saga, score=0.681, total=   0.0s\n",
      "[CV] C=1, penalty=l2, solver=saga ....................................\n",
      "[CV] ........ C=1, penalty=l2, solver=saga, score=0.657, total=   0.0s\n",
      "[CV] C=10, penalty=l1, solver=liblinear ..............................\n",
      "[CV] .. C=10, penalty=l1, solver=liblinear, score=0.846, total=   0.0s\n",
      "[CV] C=10, penalty=l1, solver=liblinear ..............................\n",
      "[CV] .. C=10, penalty=l1, solver=liblinear, score=0.778, total=   0.0s\n",
      "[CV] C=10, penalty=l1, solver=liblinear ..............................\n",
      "[CV] .. C=10, penalty=l1, solver=liblinear, score=0.845, total=   0.0s\n",
      "[CV] C=10, penalty=l1, solver=saga ...................................\n",
      "[CV] ....... C=10, penalty=l1, solver=saga, score=0.668, total=   0.0s\n",
      "[CV] C=10, penalty=l1, solver=saga ...................................\n",
      "[CV] ....... C=10, penalty=l1, solver=saga, score=0.681, total=   0.0s\n",
      "[CV] C=10, penalty=l1, solver=saga ...................................\n",
      "[CV] ....... C=10, penalty=l1, solver=saga, score=0.657, total=   0.0s\n",
      "[CV] C=10, penalty=l2, solver=liblinear ..............................\n",
      "[CV] .. C=10, penalty=l2, solver=liblinear, score=0.851, total=   0.0s\n",
      "[CV] C=10, penalty=l2, solver=liblinear ..............................\n",
      "[CV] .. C=10, penalty=l2, solver=liblinear, score=0.783, total=   0.0s\n",
      "[CV] C=10, penalty=l2, solver=liblinear ..............................\n",
      "[CV] .. C=10, penalty=l2, solver=liblinear, score=0.850, total=   0.0s\n",
      "[CV] C=10, penalty=l2, solver=saga ...................................\n",
      "[CV] ....... C=10, penalty=l2, solver=saga, score=0.668, total=   0.0s\n",
      "[CV] C=10, penalty=l2, solver=saga ...................................\n",
      "[CV] ....... C=10, penalty=l2, solver=saga, score=0.681, total=   0.0s\n",
      "[CV] C=10, penalty=l2, solver=saga ...................................\n",
      "[CV] ....... C=10, penalty=l2, solver=saga, score=0.657, total=   0.0s\n",
      "[CV] C=100, penalty=l1, solver=liblinear .............................\n",
      "[CV] . C=100, penalty=l1, solver=liblinear, score=0.837, total=   0.0s\n",
      "[CV] C=100, penalty=l1, solver=liblinear .............................\n",
      "[CV] . C=100, penalty=l1, solver=liblinear, score=0.778, total=   0.0s\n",
      "[CV] C=100, penalty=l1, solver=liblinear .............................\n",
      "[CV] . C=100, penalty=l1, solver=liblinear, score=0.845, total=   0.0s\n",
      "[CV] C=100, penalty=l1, solver=saga ..................................\n",
      "[CV] ...... C=100, penalty=l1, solver=saga, score=0.668, total=   0.0s\n",
      "[CV] C=100, penalty=l1, solver=saga ..................................\n",
      "[CV] ...... C=100, penalty=l1, solver=saga, score=0.681, total=   0.0s\n",
      "[CV] C=100, penalty=l1, solver=saga ..................................\n",
      "[CV] ...... C=100, penalty=l1, solver=saga, score=0.657, total=   0.0s\n",
      "[CV] C=100, penalty=l2, solver=liblinear .............................\n",
      "[CV] . C=100, penalty=l2, solver=liblinear, score=0.846, total=   0.0s\n",
      "[CV] C=100, penalty=l2, solver=liblinear .............................\n",
      "[CV] . C=100, penalty=l2, solver=liblinear, score=0.778, total=   0.0s\n",
      "[CV] C=100, penalty=l2, solver=liblinear .............................\n",
      "[CV] . C=100, penalty=l2, solver=liblinear, score=0.845, total=   0.0s\n",
      "[CV] C=100, penalty=l2, solver=saga ..................................\n",
      "[CV] ...... C=100, penalty=l2, solver=saga, score=0.668, total=   0.0s\n",
      "[CV] C=100, penalty=l2, solver=saga ..................................\n"
     ]
    },
    {
     "name": "stderr",
     "output_type": "stream",
     "text": [
      "C:\\Users\\samdo\\Anaconda3\\lib\\site-packages\\sklearn\\linear_model\\sag.py:337: ConvergenceWarning: The max_iter was reached which means the coef_ did not converge\n",
      "  \"the coef_ did not converge\", ConvergenceWarning)\n",
      "C:\\Users\\samdo\\Anaconda3\\lib\\site-packages\\sklearn\\linear_model\\sag.py:337: ConvergenceWarning: The max_iter was reached which means the coef_ did not converge\n",
      "  \"the coef_ did not converge\", ConvergenceWarning)\n",
      "C:\\Users\\samdo\\Anaconda3\\lib\\site-packages\\sklearn\\linear_model\\sag.py:337: ConvergenceWarning: The max_iter was reached which means the coef_ did not converge\n",
      "  \"the coef_ did not converge\", ConvergenceWarning)\n",
      "C:\\Users\\samdo\\Anaconda3\\lib\\site-packages\\sklearn\\linear_model\\sag.py:337: ConvergenceWarning: The max_iter was reached which means the coef_ did not converge\n",
      "  \"the coef_ did not converge\", ConvergenceWarning)\n",
      "C:\\Users\\samdo\\Anaconda3\\lib\\site-packages\\sklearn\\linear_model\\sag.py:337: ConvergenceWarning: The max_iter was reached which means the coef_ did not converge\n",
      "  \"the coef_ did not converge\", ConvergenceWarning)\n",
      "C:\\Users\\samdo\\Anaconda3\\lib\\site-packages\\sklearn\\linear_model\\sag.py:337: ConvergenceWarning: The max_iter was reached which means the coef_ did not converge\n",
      "  \"the coef_ did not converge\", ConvergenceWarning)\n",
      "C:\\Users\\samdo\\Anaconda3\\lib\\site-packages\\sklearn\\linear_model\\sag.py:337: ConvergenceWarning: The max_iter was reached which means the coef_ did not converge\n",
      "  \"the coef_ did not converge\", ConvergenceWarning)\n",
      "C:\\Users\\samdo\\Anaconda3\\lib\\site-packages\\sklearn\\linear_model\\sag.py:337: ConvergenceWarning: The max_iter was reached which means the coef_ did not converge\n",
      "  \"the coef_ did not converge\", ConvergenceWarning)\n",
      "C:\\Users\\samdo\\Anaconda3\\lib\\site-packages\\sklearn\\linear_model\\sag.py:337: ConvergenceWarning: The max_iter was reached which means the coef_ did not converge\n",
      "  \"the coef_ did not converge\", ConvergenceWarning)\n",
      "C:\\Users\\samdo\\Anaconda3\\lib\\site-packages\\sklearn\\linear_model\\sag.py:337: ConvergenceWarning: The max_iter was reached which means the coef_ did not converge\n",
      "  \"the coef_ did not converge\", ConvergenceWarning)\n",
      "C:\\Users\\samdo\\Anaconda3\\lib\\site-packages\\sklearn\\linear_model\\sag.py:337: ConvergenceWarning: The max_iter was reached which means the coef_ did not converge\n",
      "  \"the coef_ did not converge\", ConvergenceWarning)\n",
      "C:\\Users\\samdo\\Anaconda3\\lib\\site-packages\\sklearn\\linear_model\\sag.py:337: ConvergenceWarning: The max_iter was reached which means the coef_ did not converge\n",
      "  \"the coef_ did not converge\", ConvergenceWarning)\n"
     ]
    },
    {
     "name": "stdout",
     "output_type": "stream",
     "text": [
      "[CV] ...... C=100, penalty=l2, solver=saga, score=0.681, total=   0.0s\n",
      "[CV] C=100, penalty=l2, solver=saga ..................................\n",
      "[CV] ...... C=100, penalty=l2, solver=saga, score=0.657, total=   0.0s\n",
      "[CV] C=1000, penalty=l1, solver=liblinear ............................\n",
      "[CV]  C=1000, penalty=l1, solver=liblinear, score=0.837, total=   0.0s\n",
      "[CV] C=1000, penalty=l1, solver=liblinear ............................\n",
      "[CV]  C=1000, penalty=l1, solver=liblinear, score=0.778, total=   0.0s\n",
      "[CV] C=1000, penalty=l1, solver=liblinear ............................\n",
      "[CV]  C=1000, penalty=l1, solver=liblinear, score=0.845, total=   0.0s\n",
      "[CV] C=1000, penalty=l1, solver=saga .................................\n",
      "[CV] ..... C=1000, penalty=l1, solver=saga, score=0.668, total=   0.0s\n",
      "[CV] C=1000, penalty=l1, solver=saga .................................\n",
      "[CV] ..... C=1000, penalty=l1, solver=saga, score=0.681, total=   0.0s\n",
      "[CV] C=1000, penalty=l1, solver=saga .................................\n",
      "[CV] ..... C=1000, penalty=l1, solver=saga, score=0.657, total=   0.0s\n",
      "[CV] C=1000, penalty=l2, solver=liblinear ............................\n",
      "[CV]  C=1000, penalty=l2, solver=liblinear, score=0.837, total=   0.0s\n",
      "[CV] C=1000, penalty=l2, solver=liblinear ............................\n",
      "[CV]  C=1000, penalty=l2, solver=liblinear, score=0.778, total=   0.0s\n",
      "[CV] C=1000, penalty=l2, solver=liblinear ............................\n",
      "[CV]  C=1000, penalty=l2, solver=liblinear, score=0.845, total=   0.0s\n",
      "[CV] C=1000, penalty=l2, solver=saga .................................\n",
      "[CV] ..... C=1000, penalty=l2, solver=saga, score=0.668, total=   0.0s\n",
      "[CV] C=1000, penalty=l2, solver=saga .................................\n",
      "[CV] ..... C=1000, penalty=l2, solver=saga, score=0.681, total=   0.0s\n",
      "[CV] C=1000, penalty=l2, solver=saga .................................\n",
      "[CV] ..... C=1000, penalty=l2, solver=saga, score=0.657, total=   0.0s\n",
      "[CV] C=10000, penalty=l1, solver=liblinear ...........................\n",
      "[CV]  C=10000, penalty=l1, solver=liblinear, score=0.837, total=   0.0s\n",
      "[CV] C=10000, penalty=l1, solver=liblinear ...........................\n"
     ]
    },
    {
     "name": "stderr",
     "output_type": "stream",
     "text": [
      "C:\\Users\\samdo\\Anaconda3\\lib\\site-packages\\sklearn\\linear_model\\sag.py:337: ConvergenceWarning: The max_iter was reached which means the coef_ did not converge\n",
      "  \"the coef_ did not converge\", ConvergenceWarning)\n",
      "C:\\Users\\samdo\\Anaconda3\\lib\\site-packages\\sklearn\\linear_model\\sag.py:337: ConvergenceWarning: The max_iter was reached which means the coef_ did not converge\n",
      "  \"the coef_ did not converge\", ConvergenceWarning)\n",
      "C:\\Users\\samdo\\Anaconda3\\lib\\site-packages\\sklearn\\linear_model\\sag.py:337: ConvergenceWarning: The max_iter was reached which means the coef_ did not converge\n",
      "  \"the coef_ did not converge\", ConvergenceWarning)\n",
      "C:\\Users\\samdo\\Anaconda3\\lib\\site-packages\\sklearn\\linear_model\\sag.py:337: ConvergenceWarning: The max_iter was reached which means the coef_ did not converge\n",
      "  \"the coef_ did not converge\", ConvergenceWarning)\n",
      "C:\\Users\\samdo\\Anaconda3\\lib\\site-packages\\sklearn\\linear_model\\sag.py:337: ConvergenceWarning: The max_iter was reached which means the coef_ did not converge\n",
      "  \"the coef_ did not converge\", ConvergenceWarning)\n",
      "C:\\Users\\samdo\\Anaconda3\\lib\\site-packages\\sklearn\\linear_model\\sag.py:337: ConvergenceWarning: The max_iter was reached which means the coef_ did not converge\n",
      "  \"the coef_ did not converge\", ConvergenceWarning)\n",
      "C:\\Users\\samdo\\Anaconda3\\lib\\site-packages\\sklearn\\linear_model\\sag.py:337: ConvergenceWarning: The max_iter was reached which means the coef_ did not converge\n",
      "  \"the coef_ did not converge\", ConvergenceWarning)\n",
      "C:\\Users\\samdo\\Anaconda3\\lib\\site-packages\\sklearn\\linear_model\\sag.py:337: ConvergenceWarning: The max_iter was reached which means the coef_ did not converge\n",
      "  \"the coef_ did not converge\", ConvergenceWarning)\n",
      "C:\\Users\\samdo\\Anaconda3\\lib\\site-packages\\sklearn\\linear_model\\sag.py:337: ConvergenceWarning: The max_iter was reached which means the coef_ did not converge\n",
      "  \"the coef_ did not converge\", ConvergenceWarning)\n"
     ]
    },
    {
     "name": "stdout",
     "output_type": "stream",
     "text": [
      "[CV]  C=10000, penalty=l1, solver=liblinear, score=0.778, total=   0.0s\n",
      "[CV] C=10000, penalty=l1, solver=liblinear ...........................\n",
      "[CV]  C=10000, penalty=l1, solver=liblinear, score=0.845, total=   0.0s\n",
      "[CV] C=10000, penalty=l1, solver=saga ................................\n",
      "[CV] .... C=10000, penalty=l1, solver=saga, score=0.668, total=   0.0s\n",
      "[CV] C=10000, penalty=l1, solver=saga ................................\n",
      "[CV] .... C=10000, penalty=l1, solver=saga, score=0.681, total=   0.0s\n",
      "[CV] C=10000, penalty=l1, solver=saga ................................\n",
      "[CV] .... C=10000, penalty=l1, solver=saga, score=0.657, total=   0.0s\n",
      "[CV] C=10000, penalty=l2, solver=liblinear ...........................\n",
      "[CV]  C=10000, penalty=l2, solver=liblinear, score=0.837, total=   0.0s\n",
      "[CV] C=10000, penalty=l2, solver=liblinear ...........................\n",
      "[CV]  C=10000, penalty=l2, solver=liblinear, score=0.778, total=   0.0s\n",
      "[CV] C=10000, penalty=l2, solver=liblinear ...........................\n",
      "[CV]  C=10000, penalty=l2, solver=liblinear, score=0.845, total=   0.0s\n",
      "[CV] C=10000, penalty=l2, solver=saga ................................\n",
      "[CV] .... C=10000, penalty=l2, solver=saga, score=0.668, total=   0.0s\n",
      "[CV] C=10000, penalty=l2, solver=saga ................................\n",
      "[CV] .... C=10000, penalty=l2, solver=saga, score=0.681, total=   0.0s\n",
      "[CV] C=10000, penalty=l2, solver=saga ................................\n",
      "[CV] .... C=10000, penalty=l2, solver=saga, score=0.657, total=   0.0s\n"
     ]
    },
    {
     "name": "stderr",
     "output_type": "stream",
     "text": [
      "C:\\Users\\samdo\\Anaconda3\\lib\\site-packages\\sklearn\\linear_model\\sag.py:337: ConvergenceWarning: The max_iter was reached which means the coef_ did not converge\n",
      "  \"the coef_ did not converge\", ConvergenceWarning)\n",
      "C:\\Users\\samdo\\Anaconda3\\lib\\site-packages\\sklearn\\linear_model\\sag.py:337: ConvergenceWarning: The max_iter was reached which means the coef_ did not converge\n",
      "  \"the coef_ did not converge\", ConvergenceWarning)\n",
      "C:\\Users\\samdo\\Anaconda3\\lib\\site-packages\\sklearn\\linear_model\\sag.py:337: ConvergenceWarning: The max_iter was reached which means the coef_ did not converge\n",
      "  \"the coef_ did not converge\", ConvergenceWarning)\n",
      "[Parallel(n_jobs=1)]: Done  72 out of  72 | elapsed:    0.6s finished\n"
     ]
    },
    {
     "data": {
      "text/plain": [
       "GridSearchCV(cv='warn', error_score='raise-deprecating',\n",
       "             estimator=LogisticRegression(C=1.0, class_weight=None, dual=False,\n",
       "                                          fit_intercept=True,\n",
       "                                          intercept_scaling=1, l1_ratio=None,\n",
       "                                          max_iter=100, multi_class='warn',\n",
       "                                          n_jobs=None, penalty='l2',\n",
       "                                          random_state=2, solver='warn',\n",
       "                                          tol=0.0001, verbose=0,\n",
       "                                          warm_start=False),\n",
       "             iid='warn', n_jobs=None,\n",
       "             param_grid={'C': [0.1, 1, 10, 100, 1000, 10000],\n",
       "                         'penalty': ['l1', 'l2'],\n",
       "                         'solver': ['liblinear', 'saga']},\n",
       "             pre_dispatch='2*n_jobs', refit=True, return_train_score=False,\n",
       "             scoring='accuracy', verbose=3)"
      ]
     },
     "execution_count": 72,
     "metadata": {},
     "output_type": "execute_result"
    }
   ],
   "source": [
    "LR_param_grid = {'C':[0.1, 1, 10, 100, 1000, 10000], 'solver':['liblinear', 'saga'], 'penalty':['l1', 'l2']}\n",
    "LR_grid = GridSearchCV(LogisticRegression(random_state=rs), param_grid=LR_param_grid, scoring='accuracy', verbose=3)\n",
    "LR_grid.fit(X_train, y_train)"
   ]
  },
  {
   "cell_type": "code",
   "execution_count": 73,
   "metadata": {},
   "outputs": [
    {
     "name": "stdout",
     "output_type": "stream",
     "text": [
      "Best parameters: {'C': 10, 'penalty': 'l2', 'solver': 'liblinear'}\n",
      "Best Score: 0.8279742765273312\n"
     ]
    }
   ],
   "source": [
    "print(f'Best parameters: {LR_grid.best_params_}')\n",
    "print(f'Best Score: {LR_grid.best_score_}')"
   ]
  },
  {
   "cell_type": "code",
   "execution_count": 74,
   "metadata": {
    "scrolled": true
   },
   "outputs": [
    {
     "name": "stdout",
     "output_type": "stream",
     "text": [
      "              precision    recall  f1-score   support\n",
      "\n",
      "           0       0.84      0.87      0.85       170\n",
      "           1       0.76      0.70      0.73        97\n",
      "\n",
      "    accuracy                           0.81       267\n",
      "   macro avg       0.80      0.79      0.79       267\n",
      "weighted avg       0.81      0.81      0.81       267\n",
      "\n",
      "[[148  22]\n",
      " [ 29  68]]\n"
     ]
    }
   ],
   "source": [
    "LR_grid_preds = LR_grid.predict(X_test)\n",
    "print(classification_report(y_test, LR_grid_preds))\n",
    "print(confusion_matrix(y_test, LR_grid_preds))"
   ]
  },
  {
   "cell_type": "code",
   "execution_count": null,
   "metadata": {},
   "outputs": [],
   "source": []
  },
  {
   "cell_type": "markdown",
   "metadata": {},
   "source": [
    "### ADABOOSTING WITH DECISION TREE CLASSIFIER"
   ]
  },
  {
   "cell_type": "code",
   "execution_count": 75,
   "metadata": {
    "collapsed": true
   },
   "outputs": [
    {
     "name": "stderr",
     "output_type": "stream",
     "text": [
      "C:\\Users\\samdo\\Anaconda3\\lib\\site-packages\\sklearn\\model_selection\\_split.py:1978: FutureWarning: The default value of cv will change from 3 to 5 in version 0.22. Specify it explicitly to silence this warning.\n",
      "  warnings.warn(CV_WARNING, FutureWarning)\n",
      "[Parallel(n_jobs=-1)]: Using backend LokyBackend with 12 concurrent workers.\n"
     ]
    },
    {
     "name": "stdout",
     "output_type": "stream",
     "text": [
      "Fitting 3 folds for each of 384 candidates, totalling 1152 fits\n"
     ]
    },
    {
     "name": "stderr",
     "output_type": "stream",
     "text": [
      "[Parallel(n_jobs=-1)]: Done   8 tasks      | elapsed:    0.1s\n",
      "[Parallel(n_jobs=-1)]: Done 734 tasks      | elapsed:   30.2s\n",
      "[Parallel(n_jobs=-1)]: Done 917 tasks      | elapsed:   35.5s\n",
      "[Parallel(n_jobs=-1)]: Done 1152 out of 1152 | elapsed:   45.6s finished\n"
     ]
    },
    {
     "data": {
      "text/plain": [
       "GridSearchCV(cv='warn', error_score='raise-deprecating',\n",
       "             estimator=AdaBoostClassifier(algorithm='SAMME.R',\n",
       "                                          base_estimator=DecisionTreeClassifier(class_weight=None,\n",
       "                                                                                criterion='gini',\n",
       "                                                                                max_depth=None,\n",
       "                                                                                max_features=None,\n",
       "                                                                                max_leaf_nodes=None,\n",
       "                                                                                min_impurity_decrease=0.0,\n",
       "                                                                                min_impurity_split=None,\n",
       "                                                                                min_samples_leaf=1,\n",
       "                                                                                min_samples_split=2,\n",
       "                                                                                min_weight_fraction_leaf=0.0,\n",
       "                                                                                pr...\n",
       "                                          random_state=2),\n",
       "             iid='warn', n_jobs=-1,\n",
       "             param_grid={'algorithm': ['SAMME', 'SAMME.R'],\n",
       "                         'base_estimator__criterion': ['gini', 'entropy'],\n",
       "                         'base_estimator__splitter': ['best', 'random'],\n",
       "                         'learning_rate': [10, 1, 0.1, 0.01, 0.001, 0.0001],\n",
       "                         'n_estimators': [1, 10, 50, 100, 150, 200, 500, 1000]},\n",
       "             pre_dispatch='2*n_jobs', refit=True, return_train_score=False,\n",
       "             scoring='accuracy', verbose=3)"
      ]
     },
     "execution_count": 75,
     "metadata": {},
     "output_type": "execute_result"
    }
   ],
   "source": [
    "# to pass parameters to the DTC within the ABC, use 'base_estimator__\"DTC parameter\"'\n",
    "AdaBC_DTC = AdaBoostClassifier(DecisionTreeClassifier(random_state=rs),random_state=rs)\n",
    "\n",
    "adaBC_DTC_param_grid = {'base_estimator__criterion':['gini','entropy'], 'base_estimator__splitter':['best','random'],\n",
    "                        'algorithm':['SAMME','SAMME.R'],\n",
    "                        'n_estimators':[1,10,50,100,150,200,500,1000],\n",
    "                        'learning_rate':[10, 1, 0.1, 0.01, 0.001, 0.0001]\n",
    "                       }\n",
    "ABC_DTC_grid = GridSearchCV(AdaBC_DTC, param_grid=adaBC_DTC_param_grid, scoring='accuracy', n_jobs=-1, verbose=3)\n",
    "ABC_DTC_grid.fit(X_train, y_train)"
   ]
  },
  {
   "cell_type": "code",
   "execution_count": 76,
   "metadata": {},
   "outputs": [
    {
     "name": "stdout",
     "output_type": "stream",
     "text": [
      "Best parameters: {'algorithm': 'SAMME', 'base_estimator__criterion': 'gini', 'base_estimator__splitter': 'random', 'learning_rate': 1, 'n_estimators': 10}\n",
      "Best Score: 0.8022508038585209\n"
     ]
    }
   ],
   "source": [
    "print(f'Best parameters: {ABC_DTC_grid.best_params_}')\n",
    "print(f'Best Score: {ABC_DTC_grid.best_score_}')"
   ]
  },
  {
   "cell_type": "code",
   "execution_count": 77,
   "metadata": {},
   "outputs": [
    {
     "name": "stdout",
     "output_type": "stream",
     "text": [
      "              precision    recall  f1-score   support\n",
      "\n",
      "           0       0.82      0.84      0.83       170\n",
      "           1       0.71      0.67      0.69        97\n",
      "\n",
      "    accuracy                           0.78       267\n",
      "   macro avg       0.76      0.76      0.76       267\n",
      "weighted avg       0.78      0.78      0.78       267\n",
      "\n",
      "[[143  27]\n",
      " [ 32  65]]\n"
     ]
    }
   ],
   "source": [
    "ABC_DTC_preds = ABC_DTC_grid.predict(X_test)\n",
    "print(classification_report(y_test, ABC_DTC_preds))\n",
    "print(confusion_matrix(y_test, ABC_DTC_preds))"
   ]
  },
  {
   "cell_type": "markdown",
   "metadata": {},
   "source": [
    "### Linear SVC"
   ]
  },
  {
   "cell_type": "code",
   "execution_count": null,
   "metadata": {},
   "outputs": [],
   "source": []
  },
  {
   "cell_type": "code",
   "execution_count": null,
   "metadata": {},
   "outputs": [],
   "source": []
  },
  {
   "cell_type": "code",
   "execution_count": null,
   "metadata": {},
   "outputs": [],
   "source": []
  }
 ],
 "metadata": {
  "kernelspec": {
   "display_name": "Python 3",
   "language": "python",
   "name": "python3"
  },
  "language_info": {
   "codemirror_mode": {
    "name": "ipython",
    "version": 3
   },
   "file_extension": ".py",
   "mimetype": "text/x-python",
   "name": "python",
   "nbconvert_exporter": "python",
   "pygments_lexer": "ipython3",
   "version": "3.7.4"
  }
 },
 "nbformat": 4,
 "nbformat_minor": 2
}
